{
 "cells": [
  {
   "cell_type": "code",
   "execution_count": 1,
   "id": "9fe6245c",
   "metadata": {},
   "outputs": [],
   "source": [
    "import numpy as np\n",
    "import pandas as pd\n",
    "import datetime\n",
    "from sklearn.preprocessing import OneHotEncoder\n",
    "import matplotlib.pyplot as plt\n",
    "import seaborn as sns"
   ]
  },
  {
   "cell_type": "code",
   "execution_count": 2,
   "id": "4c3eba2a",
   "metadata": {
    "scrolled": true
   },
   "outputs": [
    {
     "name": "stderr",
     "output_type": "stream",
     "text": [
      "/home/kostya/anaconda3/lib/python3.7/site-packages/IPython/core/interactiveshell.py:3444: DtypeWarning: Columns (8,9,10,11,12,43,157,196,214,225,228,229,231,235,238) have mixed types.Specify dtype option on import or set low_memory=False.\n",
      "  exec(code_obj, self.user_global_ns, self.user_ns)\n",
      "/home/kostya/anaconda3/lib/python3.7/site-packages/IPython/core/interactiveshell.py:3444: DtypeWarning: Columns (8,9,10,11,12,43,157,167,177,196,214,225,228,229,231,235,238) have mixed types.Specify dtype option on import or set low_memory=False.\n",
      "  exec(code_obj, self.user_global_ns, self.user_ns)\n"
     ]
    }
   ],
   "source": [
    "train = pd.read_csv('train.csv')\n",
    "test = pd.read_csv('test.csv')"
   ]
  },
  {
   "cell_type": "code",
   "execution_count": 3,
   "id": "2509cc21",
   "metadata": {
    "scrolled": false
   },
   "outputs": [
    {
     "data": {
      "text/plain": [
       "((145231, 1934), (145232, 1933))"
      ]
     },
     "execution_count": 3,
     "metadata": {},
     "output_type": "execute_result"
    }
   ],
   "source": [
    "train.shape, test.shape"
   ]
  },
  {
   "cell_type": "markdown",
   "id": "85f6cbdf",
   "metadata": {},
   "source": [
    "# 1. Data cleaning\n",
    "<br>\n",
    "<br>\n",
    "<br>"
   ]
  },
  {
   "cell_type": "code",
   "execution_count": 4,
   "id": "81d88c91",
   "metadata": {
    "scrolled": true
   },
   "outputs": [
    {
     "data": {
      "text/plain": [
       "['VAR_0207', 'VAR_0213', 'VAR_0840']"
      ]
     },
     "execution_count": 4,
     "metadata": {},
     "output_type": "execute_result"
    }
   ],
   "source": [
    "[col for col in train.columns if train[col].isna().sum() == len(train)]"
   ]
  },
  {
   "cell_type": "code",
   "execution_count": 5,
   "id": "7fa24593",
   "metadata": {},
   "outputs": [],
   "source": [
    "train = train.dropna(axis = 1, how = 'all')"
   ]
  },
  {
   "cell_type": "code",
   "execution_count": 6,
   "id": "c60d6d2e",
   "metadata": {
    "scrolled": false
   },
   "outputs": [
    {
     "data": {
      "text/plain": [
       "[]"
      ]
     },
     "execution_count": 6,
     "metadata": {},
     "output_type": "execute_result"
    }
   ],
   "source": [
    "[col for col in train.columns if train[col].isna().sum() == len(train)]"
   ]
  },
  {
   "cell_type": "code",
   "execution_count": 7,
   "id": "e3b424e5",
   "metadata": {},
   "outputs": [],
   "source": [
    "test.drop(['VAR_0207', 'VAR_0213', 'VAR_0840'], axis=1, inplace=True)"
   ]
  },
  {
   "cell_type": "code",
   "execution_count": 8,
   "id": "b09858d6",
   "metadata": {},
   "outputs": [
    {
     "data": {
      "text/plain": [
       "(int64      1406\n",
       " float64     474\n",
       " object       51\n",
       " dtype: int64,\n",
       " int64      1405\n",
       " float64     474\n",
       " object       51\n",
       " dtype: int64)"
      ]
     },
     "execution_count": 8,
     "metadata": {},
     "output_type": "execute_result"
    }
   ],
   "source": [
    "train.dtypes.value_counts(), test.dtypes.value_counts()"
   ]
  },
  {
   "cell_type": "code",
   "execution_count": 9,
   "id": "58ce2b11",
   "metadata": {
    "scrolled": false
   },
   "outputs": [
    {
     "data": {
      "text/html": [
       "<div>\n",
       "<style scoped>\n",
       "    .dataframe tbody tr th:only-of-type {\n",
       "        vertical-align: middle;\n",
       "    }\n",
       "\n",
       "    .dataframe tbody tr th {\n",
       "        vertical-align: top;\n",
       "    }\n",
       "\n",
       "    .dataframe thead th {\n",
       "        text-align: right;\n",
       "    }\n",
       "</style>\n",
       "<table border=\"1\" class=\"dataframe\">\n",
       "  <thead>\n",
       "    <tr style=\"text-align: right;\">\n",
       "      <th></th>\n",
       "      <th>ID</th>\n",
       "      <th>VAR_0001</th>\n",
       "      <th>VAR_0002</th>\n",
       "      <th>VAR_0003</th>\n",
       "      <th>VAR_0004</th>\n",
       "      <th>VAR_0005</th>\n",
       "      <th>VAR_0006</th>\n",
       "      <th>VAR_0007</th>\n",
       "      <th>VAR_0008</th>\n",
       "      <th>VAR_0009</th>\n",
       "      <th>...</th>\n",
       "      <th>VAR_1926</th>\n",
       "      <th>VAR_1927</th>\n",
       "      <th>VAR_1928</th>\n",
       "      <th>VAR_1929</th>\n",
       "      <th>VAR_1930</th>\n",
       "      <th>VAR_1931</th>\n",
       "      <th>VAR_1932</th>\n",
       "      <th>VAR_1933</th>\n",
       "      <th>VAR_1934</th>\n",
       "      <th>target</th>\n",
       "    </tr>\n",
       "  </thead>\n",
       "  <tbody>\n",
       "    <tr>\n",
       "      <th>0</th>\n",
       "      <td>2</td>\n",
       "      <td>H</td>\n",
       "      <td>224</td>\n",
       "      <td>0</td>\n",
       "      <td>4300</td>\n",
       "      <td>C</td>\n",
       "      <td>0.0</td>\n",
       "      <td>0.0</td>\n",
       "      <td>False</td>\n",
       "      <td>False</td>\n",
       "      <td>...</td>\n",
       "      <td>98</td>\n",
       "      <td>98</td>\n",
       "      <td>998</td>\n",
       "      <td>999999998</td>\n",
       "      <td>998</td>\n",
       "      <td>998</td>\n",
       "      <td>9998</td>\n",
       "      <td>9998</td>\n",
       "      <td>IAPS</td>\n",
       "      <td>0</td>\n",
       "    </tr>\n",
       "    <tr>\n",
       "      <th>1</th>\n",
       "      <td>4</td>\n",
       "      <td>H</td>\n",
       "      <td>7</td>\n",
       "      <td>53</td>\n",
       "      <td>4448</td>\n",
       "      <td>B</td>\n",
       "      <td>1.0</td>\n",
       "      <td>0.0</td>\n",
       "      <td>False</td>\n",
       "      <td>False</td>\n",
       "      <td>...</td>\n",
       "      <td>98</td>\n",
       "      <td>98</td>\n",
       "      <td>998</td>\n",
       "      <td>999999998</td>\n",
       "      <td>998</td>\n",
       "      <td>998</td>\n",
       "      <td>9998</td>\n",
       "      <td>9998</td>\n",
       "      <td>IAPS</td>\n",
       "      <td>0</td>\n",
       "    </tr>\n",
       "    <tr>\n",
       "      <th>2</th>\n",
       "      <td>5</td>\n",
       "      <td>H</td>\n",
       "      <td>116</td>\n",
       "      <td>3</td>\n",
       "      <td>3464</td>\n",
       "      <td>C</td>\n",
       "      <td>0.0</td>\n",
       "      <td>0.0</td>\n",
       "      <td>False</td>\n",
       "      <td>False</td>\n",
       "      <td>...</td>\n",
       "      <td>98</td>\n",
       "      <td>98</td>\n",
       "      <td>998</td>\n",
       "      <td>999999998</td>\n",
       "      <td>998</td>\n",
       "      <td>998</td>\n",
       "      <td>9998</td>\n",
       "      <td>9998</td>\n",
       "      <td>IAPS</td>\n",
       "      <td>0</td>\n",
       "    </tr>\n",
       "    <tr>\n",
       "      <th>3</th>\n",
       "      <td>7</td>\n",
       "      <td>H</td>\n",
       "      <td>240</td>\n",
       "      <td>300</td>\n",
       "      <td>3200</td>\n",
       "      <td>C</td>\n",
       "      <td>0.0</td>\n",
       "      <td>0.0</td>\n",
       "      <td>False</td>\n",
       "      <td>False</td>\n",
       "      <td>...</td>\n",
       "      <td>98</td>\n",
       "      <td>98</td>\n",
       "      <td>998</td>\n",
       "      <td>999999998</td>\n",
       "      <td>998</td>\n",
       "      <td>998</td>\n",
       "      <td>9998</td>\n",
       "      <td>9998</td>\n",
       "      <td>RCC</td>\n",
       "      <td>0</td>\n",
       "    </tr>\n",
       "    <tr>\n",
       "      <th>4</th>\n",
       "      <td>8</td>\n",
       "      <td>R</td>\n",
       "      <td>72</td>\n",
       "      <td>261</td>\n",
       "      <td>2000</td>\n",
       "      <td>N</td>\n",
       "      <td>0.0</td>\n",
       "      <td>0.0</td>\n",
       "      <td>False</td>\n",
       "      <td>False</td>\n",
       "      <td>...</td>\n",
       "      <td>98</td>\n",
       "      <td>98</td>\n",
       "      <td>998</td>\n",
       "      <td>999999998</td>\n",
       "      <td>998</td>\n",
       "      <td>998</td>\n",
       "      <td>9998</td>\n",
       "      <td>9998</td>\n",
       "      <td>BRANCH</td>\n",
       "      <td>1</td>\n",
       "    </tr>\n",
       "  </tbody>\n",
       "</table>\n",
       "<p>5 rows × 1931 columns</p>\n",
       "</div>"
      ],
      "text/plain": [
       "   ID VAR_0001  VAR_0002  VAR_0003  VAR_0004 VAR_0005  VAR_0006  VAR_0007  \\\n",
       "0   2        H       224         0      4300        C       0.0       0.0   \n",
       "1   4        H         7        53      4448        B       1.0       0.0   \n",
       "2   5        H       116         3      3464        C       0.0       0.0   \n",
       "3   7        H       240       300      3200        C       0.0       0.0   \n",
       "4   8        R        72       261      2000        N       0.0       0.0   \n",
       "\n",
       "  VAR_0008 VAR_0009  ... VAR_1926 VAR_1927 VAR_1928   VAR_1929  VAR_1930  \\\n",
       "0    False    False  ...       98       98      998  999999998       998   \n",
       "1    False    False  ...       98       98      998  999999998       998   \n",
       "2    False    False  ...       98       98      998  999999998       998   \n",
       "3    False    False  ...       98       98      998  999999998       998   \n",
       "4    False    False  ...       98       98      998  999999998       998   \n",
       "\n",
       "   VAR_1931  VAR_1932  VAR_1933  VAR_1934  target  \n",
       "0       998      9998      9998      IAPS       0  \n",
       "1       998      9998      9998      IAPS       0  \n",
       "2       998      9998      9998      IAPS       0  \n",
       "3       998      9998      9998       RCC       0  \n",
       "4       998      9998      9998    BRANCH       1  \n",
       "\n",
       "[5 rows x 1931 columns]"
      ]
     },
     "execution_count": 9,
     "metadata": {},
     "output_type": "execute_result"
    }
   ],
   "source": [
    "train.head()"
   ]
  },
  {
   "cell_type": "markdown",
   "id": "fa484ed8",
   "metadata": {},
   "source": [
    "## a) Working with date/time\n",
    "<br>\n",
    "<br>\n",
    "<br>"
   ]
  },
  {
   "cell_type": "code",
   "execution_count": 10,
   "id": "54e1812d",
   "metadata": {},
   "outputs": [],
   "source": [
    "i = 0\n",
    "dt = []\n",
    "for col in train.columns:\n",
    "    try:\n",
    "        train[col] = pd.to_datetime(train[col], format ='%d%b%y:%H:%M:%S')\n",
    "        dt.append(col)\n",
    "    except:\n",
    "        pass\n",
    "    i += 1"
   ]
  },
  {
   "cell_type": "code",
   "execution_count": 11,
   "id": "87edee4b",
   "metadata": {
    "scrolled": false
   },
   "outputs": [
    {
     "data": {
      "text/plain": [
       "1931"
      ]
     },
     "execution_count": 11,
     "metadata": {},
     "output_type": "execute_result"
    }
   ],
   "source": [
    "i"
   ]
  },
  {
   "cell_type": "code",
   "execution_count": 12,
   "id": "497be804",
   "metadata": {
    "scrolled": true
   },
   "outputs": [
    {
     "data": {
      "text/plain": [
       "16"
      ]
     },
     "execution_count": 12,
     "metadata": {},
     "output_type": "execute_result"
    }
   ],
   "source": [
    "len(dt)"
   ]
  },
  {
   "cell_type": "markdown",
   "id": "e1efda78",
   "metadata": {},
   "source": [
    "### Datetime columns"
   ]
  },
  {
   "cell_type": "code",
   "execution_count": 13,
   "id": "cf751639",
   "metadata": {
    "scrolled": true
   },
   "outputs": [
    {
     "data": {
      "text/plain": [
       "['VAR_0073',\n",
       " 'VAR_0075',\n",
       " 'VAR_0156',\n",
       " 'VAR_0157',\n",
       " 'VAR_0158',\n",
       " 'VAR_0159',\n",
       " 'VAR_0166',\n",
       " 'VAR_0167',\n",
       " 'VAR_0168',\n",
       " 'VAR_0169',\n",
       " 'VAR_0176',\n",
       " 'VAR_0177',\n",
       " 'VAR_0178',\n",
       " 'VAR_0179',\n",
       " 'VAR_0204',\n",
       " 'VAR_0217']"
      ]
     },
     "execution_count": 13,
     "metadata": {},
     "output_type": "execute_result"
    }
   ],
   "source": [
    "dt"
   ]
  },
  {
   "cell_type": "code",
   "execution_count": 14,
   "id": "14c441c2",
   "metadata": {
    "scrolled": false
   },
   "outputs": [
    {
     "data": {
      "text/plain": [
       "16"
      ]
     },
     "execution_count": 14,
     "metadata": {},
     "output_type": "execute_result"
    }
   ],
   "source": [
    "sum([pd.core.dtypes.common.is_datetime_or_timedelta_dtype(train[col]) for col in train.columns])"
   ]
  },
  {
   "cell_type": "code",
   "execution_count": 15,
   "id": "d124f68b",
   "metadata": {
    "scrolled": true
   },
   "outputs": [
    {
     "data": {
      "text/plain": [
       "int64             1406\n",
       "float64            474\n",
       "object              35\n",
       "datetime64[ns]      16\n",
       "dtype: int64"
      ]
     },
     "execution_count": 15,
     "metadata": {},
     "output_type": "execute_result"
    }
   ],
   "source": [
    "train.dtypes.value_counts()"
   ]
  },
  {
   "cell_type": "markdown",
   "id": "1da1f178",
   "metadata": {},
   "source": [
    "### Gathering some information on datetime columns"
   ]
  },
  {
   "cell_type": "code",
   "execution_count": 16,
   "id": "e1ff660d",
   "metadata": {},
   "outputs": [
    {
     "name": "stdout",
     "output_type": "stream",
     "text": [
      "VAR_0073      nan: 101127        min: 2008-01-02 00:00:00           max: 2012-10-31 00:00:00\n",
      "VAR_0075      nan: 56        min: 2001-01-01 00:00:00           max: 2012-11-01 00:00:00\n",
      "VAR_0156      nan: 139361        min: 2008-04-11 00:00:00           max: 2012-10-29 00:00:00\n",
      "VAR_0157      nan: 144311        min: 2008-10-17 00:00:00           max: 2012-10-31 00:00:00\n",
      "VAR_0158      nan: 143142        min: 2008-09-30 00:00:00           max: 2012-10-29 00:00:00\n",
      "VAR_0159      nan: 139361        min: 2008-09-23 00:00:00           max: 2012-10-29 00:00:00\n",
      "VAR_0166      nan: 131001        min: 2002-07-30 00:00:00           max: 2012-10-30 00:00:00\n",
      "VAR_0167      nan: 142664        min: 2005-02-12 00:00:00           max: 2012-10-30 00:00:00\n",
      "VAR_0168      nan: 134506        min: 1999-12-31 00:00:00           max: 2012-11-01 00:00:00\n",
      "VAR_0169      nan: 131001        min: 2002-07-30 00:00:00           max: 2012-11-01 00:00:00\n",
      "VAR_0176      nan: 127699        min: 2002-07-30 00:00:00           max: 2012-10-30 00:00:00\n",
      "VAR_0177      nan: 141873        min: 2005-02-12 00:00:00           max: 2012-10-31 00:00:00\n",
      "VAR_0178      nan: 133158        min: 1999-12-31 00:00:00           max: 2012-11-01 00:00:00\n",
      "VAR_0179      nan: 127699        min: 2002-07-30 00:00:00           max: 2012-11-01 00:00:00\n",
      "VAR_0204      nan: 56        min: 2014-01-29 18:45:00           max: 2014-02-01 01:26:00\n",
      "VAR_0217      nan: 56        min: 2011-10-02 02:00:00           max: 2012-11-01 02:00:00\n"
     ]
    }
   ],
   "source": [
    "for col in train.columns:\n",
    "    if pd.core.dtypes.common.is_datetime_or_timedelta_dtype(train[col]) == 1:\n",
    "        print(col, '     nan:', train[col].isnull().sum(), '       min:', train[col].min(), '          max:', train[col].max())"
   ]
  },
  {
   "cell_type": "markdown",
   "id": "60f319e7",
   "metadata": {},
   "source": [
    "### Removing columns with too many missing values"
   ]
  },
  {
   "cell_type": "code",
   "execution_count": 17,
   "id": "4ae15879",
   "metadata": {},
   "outputs": [],
   "source": [
    "dt_missing = []\n",
    "for col in dt:\n",
    "    if train[col].isnull().sum() > 135000:\n",
    "        dt_missing.append(col)"
   ]
  },
  {
   "cell_type": "code",
   "execution_count": 18,
   "id": "4eb0e2f3",
   "metadata": {},
   "outputs": [
    {
     "data": {
      "text/plain": [
       "['VAR_0156', 'VAR_0157', 'VAR_0158', 'VAR_0159', 'VAR_0167', 'VAR_0177']"
      ]
     },
     "execution_count": 18,
     "metadata": {},
     "output_type": "execute_result"
    }
   ],
   "source": [
    "dt_missing"
   ]
  },
  {
   "cell_type": "code",
   "execution_count": 19,
   "id": "89b73c34",
   "metadata": {},
   "outputs": [],
   "source": [
    "train.drop(dt_missing, axis=1, inplace=True)\n",
    "test.drop(dt_missing, axis=1, inplace=True)"
   ]
  },
  {
   "cell_type": "code",
   "execution_count": 20,
   "id": "377905d5",
   "metadata": {
    "scrolled": false
   },
   "outputs": [
    {
     "data": {
      "text/plain": [
       "(int64             1406\n",
       " float64            474\n",
       " object              35\n",
       " datetime64[ns]      10\n",
       " dtype: int64,\n",
       " int64      1405\n",
       " float64     474\n",
       " object       45\n",
       " dtype: int64)"
      ]
     },
     "execution_count": 20,
     "metadata": {},
     "output_type": "execute_result"
    }
   ],
   "source": [
    "train.dtypes.value_counts(), test.dtypes.value_counts()"
   ]
  },
  {
   "cell_type": "code",
   "execution_count": 21,
   "id": "c3a8a3b6",
   "metadata": {
    "scrolled": false
   },
   "outputs": [
    {
     "data": {
      "text/plain": [
       "['VAR_0179',\n",
       " 'VAR_0073',\n",
       " 'VAR_0075',\n",
       " 'VAR_0217',\n",
       " 'VAR_0168',\n",
       " 'VAR_0166',\n",
       " 'VAR_0176',\n",
       " 'VAR_0204',\n",
       " 'VAR_0169',\n",
       " 'VAR_0178']"
      ]
     },
     "execution_count": 21,
     "metadata": {},
     "output_type": "execute_result"
    }
   ],
   "source": [
    "list(set(dt) - set(dt_missing))"
   ]
  },
  {
   "cell_type": "code",
   "execution_count": 22,
   "id": "4e5dee81",
   "metadata": {},
   "outputs": [],
   "source": [
    "i = 0\n",
    "for col in list(set(dt) - set(dt_missing)):\n",
    "    try:\n",
    "        test[col] = pd.to_datetime(test[col], format ='%d%b%y:%H:%M:%S')\n",
    "    except:\n",
    "        pass\n",
    "    i += 1"
   ]
  },
  {
   "cell_type": "code",
   "execution_count": 23,
   "id": "9116f6ac",
   "metadata": {},
   "outputs": [
    {
     "data": {
      "text/plain": [
       "10"
      ]
     },
     "execution_count": 23,
     "metadata": {},
     "output_type": "execute_result"
    }
   ],
   "source": [
    "i"
   ]
  },
  {
   "cell_type": "code",
   "execution_count": 24,
   "id": "a712cad1",
   "metadata": {
    "scrolled": true
   },
   "outputs": [
    {
     "data": {
      "text/plain": [
       "(int64             1406\n",
       " float64            474\n",
       " object              35\n",
       " datetime64[ns]      10\n",
       " dtype: int64,\n",
       " int64             1405\n",
       " float64            474\n",
       " object              35\n",
       " datetime64[ns]      10\n",
       " dtype: int64)"
      ]
     },
     "execution_count": 24,
     "metadata": {},
     "output_type": "execute_result"
    }
   ],
   "source": [
    "train.dtypes.value_counts(), test.dtypes.value_counts()"
   ]
  },
  {
   "cell_type": "code",
   "execution_count": 25,
   "id": "c95559f1",
   "metadata": {
    "scrolled": true
   },
   "outputs": [
    {
     "data": {
      "text/plain": [
       "10"
      ]
     },
     "execution_count": 25,
     "metadata": {},
     "output_type": "execute_result"
    }
   ],
   "source": [
    "sum([pd.core.dtypes.common.is_datetime_or_timedelta_dtype(test[col]) for col in test.columns])"
   ]
  },
  {
   "cell_type": "code",
   "execution_count": 26,
   "id": "29433d67",
   "metadata": {},
   "outputs": [
    {
     "data": {
      "text/plain": [
       "10"
      ]
     },
     "execution_count": 26,
     "metadata": {},
     "output_type": "execute_result"
    }
   ],
   "source": [
    "sum([pd.core.dtypes.common.is_datetime_or_timedelta_dtype(train[col]) for col in train.columns])"
   ]
  },
  {
   "cell_type": "markdown",
   "id": "f6d116dd",
   "metadata": {},
   "source": [
    "### Datetime variables transformation (time part was mostly not present and when it was present there were too many missing values so i ignored it)"
   ]
  },
  {
   "cell_type": "code",
   "execution_count": 27,
   "id": "367ab6af",
   "metadata": {},
   "outputs": [],
   "source": [
    "def dt_month_sin(df):\n",
    "    return df.apply(lambda x: np.sin((2*np.pi*x.month)/12))\n",
    "def dt_month_cos(df):\n",
    "    return df.apply(lambda x: np.cos((2*np.pi*x.month)/12))"
   ]
  },
  {
   "cell_type": "code",
   "execution_count": 28,
   "id": "41a60aa2",
   "metadata": {},
   "outputs": [],
   "source": [
    "def dt_weekend(df):\n",
    "    return df.apply(lambda x: 1 if x.weekday() >= 5 else (0 if x.weekday() >= 0 else np.nan))"
   ]
  },
  {
   "cell_type": "code",
   "execution_count": 29,
   "id": "4dc41097",
   "metadata": {},
   "outputs": [],
   "source": [
    "for col in list(set(dt) - set(dt_missing)):\n",
    "    train[col+'_month_sin'] = dt_month_sin(train[col])\n",
    "    train[col+'_month_cos'] = dt_month_cos(train[col])\n",
    "    train[col+'_weekend'] = dt_weekend(train[col])"
   ]
  },
  {
   "cell_type": "code",
   "execution_count": 30,
   "id": "a9de4ecb",
   "metadata": {},
   "outputs": [],
   "source": [
    "for col in list(set(dt) - set(dt_missing)):\n",
    "    test[col+'_month_sin'] = dt_month_sin(test[col])\n",
    "    test[col+'_month_cos'] = dt_month_cos(test[col])\n",
    "    test[col+'_weekend'] = dt_weekend(test[col])"
   ]
  },
  {
   "cell_type": "code",
   "execution_count": 31,
   "id": "9108873c",
   "metadata": {},
   "outputs": [
    {
     "data": {
      "text/plain": [
       "(int64             1406\n",
       " float64            504\n",
       " object              35\n",
       " datetime64[ns]      10\n",
       " dtype: int64,\n",
       " int64             1405\n",
       " float64            504\n",
       " object              35\n",
       " datetime64[ns]      10\n",
       " dtype: int64)"
      ]
     },
     "execution_count": 31,
     "metadata": {},
     "output_type": "execute_result"
    }
   ],
   "source": [
    "train.dtypes.value_counts(), test.dtypes.value_counts()"
   ]
  },
  {
   "cell_type": "markdown",
   "id": "baa20068",
   "metadata": {},
   "source": [
    "### Dropping original datetime variables"
   ]
  },
  {
   "cell_type": "code",
   "execution_count": 32,
   "id": "aa3b2b09",
   "metadata": {},
   "outputs": [],
   "source": [
    "train.drop(list(set(dt) - set(dt_missing)), axis=1, inplace=True)\n",
    "test.drop(list(set(dt) - set(dt_missing)), axis=1, inplace=True)"
   ]
  },
  {
   "cell_type": "code",
   "execution_count": 33,
   "id": "f622b8b5",
   "metadata": {},
   "outputs": [
    {
     "data": {
      "text/plain": [
       "(int64      1406\n",
       " float64     504\n",
       " object       35\n",
       " dtype: int64,\n",
       " int64      1405\n",
       " float64     504\n",
       " object       35\n",
       " dtype: int64)"
      ]
     },
     "execution_count": 33,
     "metadata": {},
     "output_type": "execute_result"
    }
   ],
   "source": [
    "train.dtypes.value_counts(), test.dtypes.value_counts()"
   ]
  },
  {
   "cell_type": "markdown",
   "id": "a80b87b0",
   "metadata": {},
   "source": [
    "## b) Working with categorical variables\n",
    "<br>\n",
    "<br>\n",
    "<br>"
   ]
  },
  {
   "cell_type": "code",
   "execution_count": 34,
   "id": "6088e14f",
   "metadata": {},
   "outputs": [],
   "source": [
    "obj = []\n",
    "for col in train.columns:\n",
    "    if train[col].dtypes == 'object':\n",
    "        obj.append(col)"
   ]
  },
  {
   "cell_type": "code",
   "execution_count": 35,
   "id": "78f7135c",
   "metadata": {
    "scrolled": true
   },
   "outputs": [
    {
     "data": {
      "text/plain": [
       "35"
      ]
     },
     "execution_count": 35,
     "metadata": {},
     "output_type": "execute_result"
    }
   ],
   "source": [
    "len(obj)"
   ]
  },
  {
   "cell_type": "markdown",
   "id": "4929eb03",
   "metadata": {},
   "source": [
    "### Turning missing values into a separate category"
   ]
  },
  {
   "cell_type": "code",
   "execution_count": 36,
   "id": "f2d28cb7",
   "metadata": {},
   "outputs": [],
   "source": [
    "for col in obj:\n",
    "    train[col] = train[col].fillna(value='missing')"
   ]
  },
  {
   "cell_type": "code",
   "execution_count": 37,
   "id": "a143fe2d",
   "metadata": {},
   "outputs": [],
   "source": [
    "for col in obj:\n",
    "    test[col] = test[col].fillna(value='missing')"
   ]
  },
  {
   "cell_type": "code",
   "execution_count": 38,
   "id": "ff0f65f5",
   "metadata": {},
   "outputs": [
    {
     "data": {
      "text/plain": [
       "0"
      ]
     },
     "execution_count": 38,
     "metadata": {},
     "output_type": "execute_result"
    }
   ],
   "source": [
    "sum(train[obj].isna().any())"
   ]
  },
  {
   "cell_type": "code",
   "execution_count": 39,
   "id": "10bac921",
   "metadata": {},
   "outputs": [
    {
     "data": {
      "text/plain": [
       "0"
      ]
     },
     "execution_count": 39,
     "metadata": {},
     "output_type": "execute_result"
    }
   ],
   "source": [
    "sum(test[obj].isna().any())"
   ]
  },
  {
   "cell_type": "code",
   "execution_count": 40,
   "id": "895f94e1",
   "metadata": {},
   "outputs": [
    {
     "name": "stdout",
     "output_type": "stream",
     "text": [
      "VAR_0001 3 509 84893\n",
      "VAR_0005 4 2878 71449\n",
      "VAR_0008 2 56 145175\n",
      "VAR_0009 2 56 145175\n",
      "VAR_0010 2 56 145175\n",
      "VAR_0011 2 56 145175\n",
      "VAR_0012 2 56 145175\n",
      "VAR_0043 2 56 145175\n",
      "VAR_0044 2 56 145175\n",
      "VAR_0196 2 56 145175\n",
      "VAR_0200 12386 1 2091\n",
      "VAR_0202 2 56 145175\n",
      "VAR_0214 13 1 145219\n",
      "VAR_0216 2 56 145175\n",
      "VAR_0222 2 56 145175\n",
      "VAR_0226 3 56 144703\n",
      "VAR_0229 2 56 145175\n",
      "VAR_0230 3 56 145004\n",
      "VAR_0232 3 56 82118\n",
      "VAR_0236 3 56 144849\n",
      "VAR_0237 46 1 15770\n",
      "VAR_0239 2 56 145175\n",
      "VAR_0274 58 3 16258\n",
      "VAR_0283 8 26 113607\n",
      "VAR_0305 9 2 108830\n",
      "VAR_0325 10 41 89842\n",
      "VAR_0342 51 7 30969\n",
      "VAR_0352 5 918 59807\n",
      "VAR_0353 5 918 70031\n",
      "VAR_0354 5 918 68242\n",
      "VAR_0404 1824 1 130443\n",
      "VAR_0466 3 918 121461\n",
      "VAR_0467 5 106 121675\n",
      "VAR_0493 609 1 135182\n",
      "VAR_1934 5 2817 68484\n"
     ]
    }
   ],
   "source": [
    "for col in train.columns:\n",
    "    if train[col].dtypes == 'object':\n",
    "        print(col, len(train[col].unique()), train[col].value_counts().min(), train[col].value_counts().max())"
   ]
  },
  {
   "cell_type": "markdown",
   "id": "b1942db5",
   "metadata": {},
   "source": [
    "### Removing variables with too many missing values"
   ]
  },
  {
   "cell_type": "code",
   "execution_count": 41,
   "id": "09a59d6a",
   "metadata": {},
   "outputs": [],
   "source": [
    "static_val = []\n",
    "for col in obj:\n",
    "    if train[col].value_counts().max() > 144500:\n",
    "        static_val.append(col)"
   ]
  },
  {
   "cell_type": "code",
   "execution_count": 42,
   "id": "c762ec4f",
   "metadata": {},
   "outputs": [
    {
     "data": {
      "text/plain": [
       "['VAR_0008',\n",
       " 'VAR_0009',\n",
       " 'VAR_0010',\n",
       " 'VAR_0011',\n",
       " 'VAR_0012',\n",
       " 'VAR_0043',\n",
       " 'VAR_0044',\n",
       " 'VAR_0196',\n",
       " 'VAR_0202',\n",
       " 'VAR_0214',\n",
       " 'VAR_0216',\n",
       " 'VAR_0222',\n",
       " 'VAR_0226',\n",
       " 'VAR_0229',\n",
       " 'VAR_0230',\n",
       " 'VAR_0236',\n",
       " 'VAR_0239']"
      ]
     },
     "execution_count": 42,
     "metadata": {},
     "output_type": "execute_result"
    }
   ],
   "source": [
    "static_val"
   ]
  },
  {
   "cell_type": "code",
   "execution_count": 43,
   "id": "2b3e9e1e",
   "metadata": {},
   "outputs": [],
   "source": [
    "train.drop(static_val, axis=1, inplace=True)\n",
    "test.drop(static_val, axis=1, inplace=True)"
   ]
  },
  {
   "cell_type": "code",
   "execution_count": 44,
   "id": "48991e00",
   "metadata": {},
   "outputs": [
    {
     "data": {
      "text/plain": [
       "(int64      1406\n",
       " float64     504\n",
       " object       18\n",
       " dtype: int64,\n",
       " int64      1405\n",
       " float64     504\n",
       " object       18\n",
       " dtype: int64)"
      ]
     },
     "execution_count": 44,
     "metadata": {},
     "output_type": "execute_result"
    }
   ],
   "source": [
    "train.dtypes.value_counts(), test.dtypes.value_counts()"
   ]
  },
  {
   "cell_type": "code",
   "execution_count": 45,
   "id": "99145875",
   "metadata": {},
   "outputs": [],
   "source": [
    "obj = []\n",
    "for col in train.columns:\n",
    "    if train[col].dtypes == 'object':\n",
    "        obj.append(col)"
   ]
  },
  {
   "cell_type": "code",
   "execution_count": 46,
   "id": "e3483fad",
   "metadata": {
    "scrolled": false
   },
   "outputs": [
    {
     "data": {
      "text/html": [
       "<div>\n",
       "<style scoped>\n",
       "    .dataframe tbody tr th:only-of-type {\n",
       "        vertical-align: middle;\n",
       "    }\n",
       "\n",
       "    .dataframe tbody tr th {\n",
       "        vertical-align: top;\n",
       "    }\n",
       "\n",
       "    .dataframe thead th {\n",
       "        text-align: right;\n",
       "    }\n",
       "</style>\n",
       "<table border=\"1\" class=\"dataframe\">\n",
       "  <thead>\n",
       "    <tr style=\"text-align: right;\">\n",
       "      <th></th>\n",
       "      <th>VAR_0001</th>\n",
       "      <th>VAR_0005</th>\n",
       "      <th>VAR_0200</th>\n",
       "      <th>VAR_0232</th>\n",
       "      <th>VAR_0237</th>\n",
       "      <th>VAR_0274</th>\n",
       "      <th>VAR_0283</th>\n",
       "      <th>VAR_0305</th>\n",
       "      <th>VAR_0325</th>\n",
       "      <th>VAR_0342</th>\n",
       "      <th>VAR_0352</th>\n",
       "      <th>VAR_0353</th>\n",
       "      <th>VAR_0354</th>\n",
       "      <th>VAR_0404</th>\n",
       "      <th>VAR_0466</th>\n",
       "      <th>VAR_0467</th>\n",
       "      <th>VAR_0493</th>\n",
       "      <th>VAR_1934</th>\n",
       "    </tr>\n",
       "  </thead>\n",
       "  <tbody>\n",
       "    <tr>\n",
       "      <th>0</th>\n",
       "      <td>H</td>\n",
       "      <td>C</td>\n",
       "      <td>FT LAUDERDALE</td>\n",
       "      <td>True</td>\n",
       "      <td>FL</td>\n",
       "      <td>FL</td>\n",
       "      <td>S</td>\n",
       "      <td>S</td>\n",
       "      <td>-1</td>\n",
       "      <td>CF</td>\n",
       "      <td>O</td>\n",
       "      <td>U</td>\n",
       "      <td>O</td>\n",
       "      <td>CHIEF EXECUTIVE OFFICER</td>\n",
       "      <td>-1</td>\n",
       "      <td>-1</td>\n",
       "      <td>COMMUNITY ASSOCIATION MANAGER</td>\n",
       "      <td>IAPS</td>\n",
       "    </tr>\n",
       "    <tr>\n",
       "      <th>1</th>\n",
       "      <td>H</td>\n",
       "      <td>B</td>\n",
       "      <td>SANTEE</td>\n",
       "      <td>False</td>\n",
       "      <td>CA</td>\n",
       "      <td>MI</td>\n",
       "      <td>S</td>\n",
       "      <td>S</td>\n",
       "      <td>H</td>\n",
       "      <td>EC</td>\n",
       "      <td>O</td>\n",
       "      <td>R</td>\n",
       "      <td>R</td>\n",
       "      <td>-1</td>\n",
       "      <td>I</td>\n",
       "      <td>Discharged</td>\n",
       "      <td>-1</td>\n",
       "      <td>IAPS</td>\n",
       "    </tr>\n",
       "    <tr>\n",
       "      <th>2</th>\n",
       "      <td>H</td>\n",
       "      <td>C</td>\n",
       "      <td>REEDSVILLE</td>\n",
       "      <td>True</td>\n",
       "      <td>WV</td>\n",
       "      <td>WV</td>\n",
       "      <td>S</td>\n",
       "      <td>P</td>\n",
       "      <td>R</td>\n",
       "      <td>UU</td>\n",
       "      <td>R</td>\n",
       "      <td>R</td>\n",
       "      <td>-1</td>\n",
       "      <td>-1</td>\n",
       "      <td>-1</td>\n",
       "      <td>-1</td>\n",
       "      <td>-1</td>\n",
       "      <td>IAPS</td>\n",
       "    </tr>\n",
       "    <tr>\n",
       "      <th>3</th>\n",
       "      <td>H</td>\n",
       "      <td>C</td>\n",
       "      <td>LIBERTY</td>\n",
       "      <td>False</td>\n",
       "      <td>TX</td>\n",
       "      <td>TX</td>\n",
       "      <td>S</td>\n",
       "      <td>P</td>\n",
       "      <td>H</td>\n",
       "      <td>-1</td>\n",
       "      <td>R</td>\n",
       "      <td>R</td>\n",
       "      <td>-1</td>\n",
       "      <td>-1</td>\n",
       "      <td>-1</td>\n",
       "      <td>-1</td>\n",
       "      <td>-1</td>\n",
       "      <td>RCC</td>\n",
       "    </tr>\n",
       "    <tr>\n",
       "      <th>4</th>\n",
       "      <td>R</td>\n",
       "      <td>N</td>\n",
       "      <td>FRANKFORT</td>\n",
       "      <td>True</td>\n",
       "      <td>IL</td>\n",
       "      <td>IL</td>\n",
       "      <td>S</td>\n",
       "      <td>P</td>\n",
       "      <td>S</td>\n",
       "      <td>-1</td>\n",
       "      <td>R</td>\n",
       "      <td>U</td>\n",
       "      <td>O</td>\n",
       "      <td>-1</td>\n",
       "      <td>-1</td>\n",
       "      <td>-1</td>\n",
       "      <td>-1</td>\n",
       "      <td>BRANCH</td>\n",
       "    </tr>\n",
       "  </tbody>\n",
       "</table>\n",
       "</div>"
      ],
      "text/plain": [
       "  VAR_0001 VAR_0005       VAR_0200 VAR_0232 VAR_0237 VAR_0274 VAR_0283  \\\n",
       "0        H        C  FT LAUDERDALE     True       FL       FL        S   \n",
       "1        H        B         SANTEE    False       CA       MI        S   \n",
       "2        H        C     REEDSVILLE     True       WV       WV        S   \n",
       "3        H        C        LIBERTY    False       TX       TX        S   \n",
       "4        R        N      FRANKFORT     True       IL       IL        S   \n",
       "\n",
       "  VAR_0305 VAR_0325 VAR_0342 VAR_0352 VAR_0353 VAR_0354  \\\n",
       "0        S       -1       CF        O        U        O   \n",
       "1        S        H       EC        O        R        R   \n",
       "2        P        R       UU        R        R       -1   \n",
       "3        P        H       -1        R        R       -1   \n",
       "4        P        S       -1        R        U        O   \n",
       "\n",
       "                  VAR_0404 VAR_0466    VAR_0467  \\\n",
       "0  CHIEF EXECUTIVE OFFICER       -1          -1   \n",
       "1                       -1        I  Discharged   \n",
       "2                       -1       -1          -1   \n",
       "3                       -1       -1          -1   \n",
       "4                       -1       -1          -1   \n",
       "\n",
       "                        VAR_0493 VAR_1934  \n",
       "0  COMMUNITY ASSOCIATION MANAGER     IAPS  \n",
       "1                             -1     IAPS  \n",
       "2                             -1     IAPS  \n",
       "3                             -1      RCC  \n",
       "4                             -1   BRANCH  "
      ]
     },
     "execution_count": 46,
     "metadata": {},
     "output_type": "execute_result"
    }
   ],
   "source": [
    "pd.options.display.max_columns = 40\n",
    "#pd.reset_option('display.max_colwidth')\n",
    "train[obj].head()"
   ]
  },
  {
   "cell_type": "markdown",
   "id": "484bff60",
   "metadata": {},
   "source": [
    "### Doing more research on categorical variables"
   ]
  },
  {
   "cell_type": "code",
   "execution_count": 47,
   "id": "7d78d486",
   "metadata": {
    "scrolled": true
   },
   "outputs": [
    {
     "name": "stdout",
     "output_type": "stream",
     "text": [
      "VAR_0001 3 84893\n",
      "VAR_0005 4 71449\n",
      "VAR_0200 12386 2091\n",
      "VAR_0232 3 82118\n",
      "VAR_0237 46 15770\n",
      "VAR_0274 58 16258\n",
      "VAR_0283 8 113607\n",
      "VAR_0305 9 108830\n",
      "VAR_0325 10 89842\n",
      "VAR_0342 51 30969\n",
      "VAR_0352 5 59807\n",
      "VAR_0353 5 70031\n",
      "VAR_0354 5 68242\n",
      "VAR_0404 1824 130443\n",
      "VAR_0466 3 121461\n",
      "VAR_0467 5 121675\n",
      "VAR_0493 609 135182\n",
      "VAR_1934 5 68484\n"
     ]
    }
   ],
   "source": [
    "for col in obj:\n",
    "    print(col, len(train[col].unique()), train[col].value_counts().max())"
   ]
  },
  {
   "cell_type": "code",
   "execution_count": 48,
   "id": "0a0753b7",
   "metadata": {
    "scrolled": false
   },
   "outputs": [
    {
     "data": {
      "text/plain": [
       "-1                         130443\n",
       "CONTACT                      2163\n",
       "PRESIDENT                    1315\n",
       "AGENT                        1072\n",
       "missing                       918\n",
       "DIRECTOR                      864\n",
       "OWNER                         770\n",
       "MEMBER                        566\n",
       "SECRETARY                     512\n",
       "INDIVIDUAL - SOLE OWNER       458\n",
       "MANAGER                       361\n",
       "INCORPORATOR                  288\n",
       "VICE PRESIDENT                267\n",
       "CONTA                         254\n",
       "TREASURER                     225\n",
       "BOARD MEMBER                  167\n",
       "MEMBER MANAGER                164\n",
       "CEO                           143\n",
       "OFFICE MANAGER                106\n",
       "REGISTRANT                    105\n",
       "Name: VAR_0404, dtype: int64"
      ]
     },
     "execution_count": 48,
     "metadata": {},
     "output_type": "execute_result"
    }
   ],
   "source": [
    "train.VAR_0404.value_counts().head(20)"
   ]
  },
  {
   "cell_type": "code",
   "execution_count": 49,
   "id": "84431c51",
   "metadata": {},
   "outputs": [
    {
     "data": {
      "text/plain": [
       "(0.23411758392554602, 0.21869083040302947)"
      ]
     },
     "execution_count": 49,
     "metadata": {},
     "output_type": "execute_result"
    }
   ],
   "source": [
    "train[train.VAR_0404 == '-1'].target.sum()/train[train.VAR_0404 == '-1'].target.count(), \\\n",
    "train[train.VAR_0404 != '-1'].target.sum()/train[train.VAR_0404 != '-1'].target.count()"
   ]
  },
  {
   "cell_type": "code",
   "execution_count": 50,
   "id": "553529d5",
   "metadata": {},
   "outputs": [
    {
     "name": "stderr",
     "output_type": "stream",
     "text": [
      "/home/kostya/anaconda3/lib/python3.7/site-packages/seaborn/categorical.py:3717: UserWarning: The `factorplot` function has been renamed to `catplot`. The original name will be removed in a future release. Please update your code. Note that the default `kind` in `factorplot` (`'point'`) has changed `'strip'` in `catplot`.\n",
      "  warnings.warn(msg)\n",
      "/home/kostya/anaconda3/lib/python3.7/site-packages/seaborn/_decorators.py:43: FutureWarning: Pass the following variables as keyword args: x, y. From version 0.12, the only valid positional argument will be `data`, and passing other arguments without an explicit keyword will result in an error or misinterpretation.\n",
      "  FutureWarning\n"
     ]
    },
    {
     "data": {
      "text/plain": [
       "<seaborn.axisgrid.FacetGrid at 0x7fbed9617750>"
      ]
     },
     "execution_count": 50,
     "metadata": {},
     "output_type": "execute_result"
    },
    {
     "data": {
      "image/png": "[encoded data removed]",
      "text/plain": [
       "<Figure size 1080x360 with 1 Axes>"
      ]
     },
     "metadata": {},
     "output_type": "display_data"
    }
   ],
   "source": [
    "sns.factorplot('VAR_0404', \n",
    "               'target', \n",
    "               data=train[train.VAR_0404.isin(list(train.VAR_0404.value_counts().head(20).index))], \n",
    "               height=5, \n",
    "               aspect=3).set_xticklabels(rotation=45)"
   ]
  },
  {
   "cell_type": "code",
   "execution_count": 51,
   "id": "a5d8e4d0",
   "metadata": {
    "scrolled": true
   },
   "outputs": [
    {
     "data": {
      "text/plain": [
       "-1                                      135182\n",
       "REGISTERED NURSE                          1099\n",
       "missing                                    918\n",
       "LICENSED PRACTICAL NURSE                   767\n",
       "PHARMACY TECHNICIAN                        536\n",
       "COSMETOLOGIST                              452\n",
       "GUARD                                      399\n",
       "PERMANENT EMPLOYEE REGISTRATION CARD       325\n",
       "PROFESSIONAL NURSE                         246\n",
       "LICENSED VOCATIONAL NURSE                  243\n",
       "NURSE AIDE                                 238\n",
       "CERTIFIED NURSING ASSISTANT                238\n",
       "REAL ESTATE                                226\n",
       "PRACTICAL NURSE                            141\n",
       "CERTIFIED NURSE AIDE                       111\n",
       "INSURANCE AGENTS                            98\n",
       "LICENSED REAL ESTATE SALESPERSON            89\n",
       "REGISTERED PROFESSIONAL NURSE               86\n",
       "FIREARM PERMIT                              85\n",
       "MASTER COSMETOLOGIST                        79\n",
       "Name: VAR_0493, dtype: int64"
      ]
     },
     "execution_count": 51,
     "metadata": {},
     "output_type": "execute_result"
    }
   ],
   "source": [
    "train.VAR_0493.value_counts().head(20)"
   ]
  },
  {
   "cell_type": "code",
   "execution_count": 52,
   "id": "164fe99f",
   "metadata": {},
   "outputs": [
    {
     "data": {
      "text/plain": [
       "(0.23278986847361335, 0.22927654492984376)"
      ]
     },
     "execution_count": 52,
     "metadata": {},
     "output_type": "execute_result"
    }
   ],
   "source": [
    "train[train.VAR_0493 == '-1'].target.sum()/train[train.VAR_0493 == '-1'].target.count(), \\\n",
    "train[train.VAR_0493 != '-1'].target.sum()/train[train.VAR_0493 != '-1'].target.count()"
   ]
  },
  {
   "cell_type": "code",
   "execution_count": 53,
   "id": "25823fd8",
   "metadata": {},
   "outputs": [
    {
     "name": "stderr",
     "output_type": "stream",
     "text": [
      "/home/kostya/anaconda3/lib/python3.7/site-packages/seaborn/categorical.py:3717: UserWarning: The `factorplot` function has been renamed to `catplot`. The original name will be removed in a future release. Please update your code. Note that the default `kind` in `factorplot` (`'point'`) has changed `'strip'` in `catplot`.\n",
      "  warnings.warn(msg)\n",
      "/home/kostya/anaconda3/lib/python3.7/site-packages/seaborn/_decorators.py:43: FutureWarning: Pass the following variables as keyword args: x, y. From version 0.12, the only valid positional argument will be `data`, and passing other arguments without an explicit keyword will result in an error or misinterpretation.\n",
      "  FutureWarning\n"
     ]
    },
    {
     "data": {
      "text/plain": [
       "<seaborn.axisgrid.FacetGrid at 0x7ff8c3cbf5d0>"
      ]
     },
     "execution_count": 53,
     "metadata": {},
     "output_type": "execute_result"
    },
    {
     "data": {
      "image/png": "[encoded data removed]",
      "text/plain": [
       "<Figure size 1080x360 with 1 Axes>"
      ]
     },
     "metadata": {},
     "output_type": "display_data"
    }
   ],
   "source": [
    "sns.factorplot('VAR_0493', \n",
    "               'target', \n",
    "               data=train[train.VAR_0493.isin(list(train.VAR_0493.value_counts().head(20).index))], \n",
    "               height=5, \n",
    "               aspect=3).set_xticklabels(rotation=45)"
   ]
  },
  {
   "cell_type": "code",
   "execution_count": 54,
   "id": "b3f5b9db",
   "metadata": {
    "scrolled": true
   },
   "outputs": [
    {
     "data": {
      "text/plain": [
       "CA         15770\n",
       "TX         14186\n",
       "NC         11691\n",
       "GA          8730\n",
       "IL          8479\n",
       "VA          8081\n",
       "OH          7307\n",
       "FL          7004\n",
       "PA          6937\n",
       "SC          6083\n",
       "IN          5506\n",
       "TN          5226\n",
       "AL          4985\n",
       "WA          3722\n",
       "KY          3404\n",
       "LA          3284\n",
       "MO          3257\n",
       "CO          2808\n",
       "MS          2386\n",
       "OK          2338\n",
       "WI          2234\n",
       "OR          1523\n",
       "WV          1459\n",
       "NY          1372\n",
       "NM          1322\n",
       "AZ          1099\n",
       "MI          1027\n",
       "ID           695\n",
       "MD           592\n",
       "KS           548\n",
       "NJ           536\n",
       "UT           293\n",
       "HI           264\n",
       "IA           241\n",
       "DE           161\n",
       "NE           151\n",
       "NV           146\n",
       "WY           109\n",
       "MT           105\n",
       "SD            66\n",
       "missing       56\n",
       "DC            28\n",
       "AR             9\n",
       "MN             9\n",
       "CT             1\n",
       "AK             1\n",
       "Name: VAR_0237, dtype: int64"
      ]
     },
     "execution_count": 54,
     "metadata": {},
     "output_type": "execute_result"
    }
   ],
   "source": [
    "train.VAR_0237.value_counts()"
   ]
  },
  {
   "cell_type": "code",
   "execution_count": 55,
   "id": "c6d537d4",
   "metadata": {
    "scrolled": false
   },
   "outputs": [
    {
     "name": "stderr",
     "output_type": "stream",
     "text": [
      "/home/kostya/anaconda3/lib/python3.7/site-packages/seaborn/categorical.py:3717: UserWarning: The `factorplot` function has been renamed to `catplot`. The original name will be removed in a future release. Please update your code. Note that the default `kind` in `factorplot` (`'point'`) has changed `'strip'` in `catplot`.\n",
      "  warnings.warn(msg)\n",
      "/home/kostya/anaconda3/lib/python3.7/site-packages/seaborn/_decorators.py:43: FutureWarning: Pass the following variables as keyword args: x, y. From version 0.12, the only valid positional argument will be `data`, and passing other arguments without an explicit keyword will result in an error or misinterpretation.\n",
      "  FutureWarning\n"
     ]
    },
    {
     "data": {
      "text/plain": [
       "<seaborn.axisgrid.FacetGrid at 0x7ff8c210e250>"
      ]
     },
     "execution_count": 55,
     "metadata": {},
     "output_type": "execute_result"
    },
    {
     "data": {
      "image/png": "[encoded data removed]",
      "text/plain": [
       "<Figure size 1080x360 with 1 Axes>"
      ]
     },
     "metadata": {},
     "output_type": "display_data"
    }
   ],
   "source": [
    "sns.factorplot('VAR_0237', \n",
    "               'target', \n",
    "               data=train[train.VAR_0237.isin(list(train.VAR_0237.value_counts().head(35).index))], \n",
    "               height=5, \n",
    "               aspect=3).set_xticklabels(rotation=45)"
   ]
  },
  {
   "cell_type": "markdown",
   "id": "b7093788",
   "metadata": {},
   "source": [
    "### Dropping variables with too many levels"
   ]
  },
  {
   "cell_type": "code",
   "execution_count": 51,
   "id": "485f031e",
   "metadata": {},
   "outputs": [],
   "source": [
    "too_many_levels = ['VAR_0200', 'VAR_0274', 'VAR_0342', 'VAR_0404', 'VAR_0493']"
   ]
  },
  {
   "cell_type": "code",
   "execution_count": 52,
   "id": "c0319401",
   "metadata": {},
   "outputs": [],
   "source": [
    "train.drop(too_many_levels, axis=1, inplace=True)\n",
    "test.drop(too_many_levels, axis=1, inplace=True)"
   ]
  },
  {
   "cell_type": "code",
   "execution_count": 53,
   "id": "0d701a76",
   "metadata": {
    "scrolled": true
   },
   "outputs": [
    {
     "data": {
      "text/plain": [
       "(int64      1406\n",
       " float64     504\n",
       " object       13\n",
       " dtype: int64,\n",
       " int64      1405\n",
       " float64     504\n",
       " object       13\n",
       " dtype: int64)"
      ]
     },
     "execution_count": 53,
     "metadata": {},
     "output_type": "execute_result"
    }
   ],
   "source": [
    "train.dtypes.value_counts(), test.dtypes.value_counts()"
   ]
  },
  {
   "cell_type": "markdown",
   "id": "8e702767",
   "metadata": {},
   "source": [
    "### Running one hot encoder on remaining categorical variables"
   ]
  },
  {
   "cell_type": "code",
   "execution_count": 54,
   "id": "b40422e8",
   "metadata": {},
   "outputs": [],
   "source": [
    "obj = []\n",
    "for col in train.columns:\n",
    "    if train[col].dtypes == 'object':\n",
    "        obj.append(col)"
   ]
  },
  {
   "cell_type": "code",
   "execution_count": 55,
   "id": "bdb586fb",
   "metadata": {},
   "outputs": [
    {
     "data": {
      "text/plain": [
       "['VAR_0001',\n",
       " 'VAR_0005',\n",
       " 'VAR_0232',\n",
       " 'VAR_0237',\n",
       " 'VAR_0283',\n",
       " 'VAR_0305',\n",
       " 'VAR_0325',\n",
       " 'VAR_0352',\n",
       " 'VAR_0353',\n",
       " 'VAR_0354',\n",
       " 'VAR_0466',\n",
       " 'VAR_0467',\n",
       " 'VAR_1934']"
      ]
     },
     "execution_count": 55,
     "metadata": {},
     "output_type": "execute_result"
    }
   ],
   "source": [
    "obj"
   ]
  },
  {
   "cell_type": "code",
   "execution_count": 56,
   "id": "3375f161",
   "metadata": {},
   "outputs": [],
   "source": [
    "cols_added = []\n",
    "for col in obj:\n",
    "    ohe = OneHotEncoder(sparse=False, handle_unknown = 'ignore')\n",
    "    m_train = ohe.fit_transform(train[[col]].astype(str))\n",
    "    m_train_d = pd.DataFrame(m_train, columns=[col + '_' + i for i in ohe.categories_])\n",
    "    m_train_d.columns = [col[0].replace(\" \", \"_\") for col in m_train_d.columns]\n",
    "    \n",
    "    m_test = ohe.transform(test[[col]].astype(str))\n",
    "    m_test_d = pd.DataFrame(m_test, columns=[col + '_' + i for i in ohe.categories_])\n",
    "    m_test_d.columns = [col[0].replace(\" \", \"_\") for col in m_test_d.columns]\n",
    "    \n",
    "    train = pd.concat([train, m_train_d], axis=1)\n",
    "    test = pd.concat([test, m_test_d], axis=1)\n",
    "    cols_added.append(m_train_d.shape[1])"
   ]
  },
  {
   "cell_type": "code",
   "execution_count": 57,
   "id": "c532ba76",
   "metadata": {
    "scrolled": true
   },
   "outputs": [
    {
     "data": {
      "text/plain": [
       "(int64      1406\n",
       " float64     615\n",
       " object       13\n",
       " dtype: int64,\n",
       " int64      1405\n",
       " float64     615\n",
       " object       13\n",
       " dtype: int64)"
      ]
     },
     "execution_count": 57,
     "metadata": {},
     "output_type": "execute_result"
    }
   ],
   "source": [
    "train.dtypes.value_counts(), test.dtypes.value_counts()"
   ]
  },
  {
   "cell_type": "code",
   "execution_count": 58,
   "id": "1e275ac7",
   "metadata": {},
   "outputs": [
    {
     "data": {
      "text/plain": [
       "111"
      ]
     },
     "execution_count": 58,
     "metadata": {},
     "output_type": "execute_result"
    }
   ],
   "source": [
    "sum(cols_added)"
   ]
  },
  {
   "cell_type": "code",
   "execution_count": 59,
   "id": "3f42e56b",
   "metadata": {},
   "outputs": [],
   "source": [
    "train.drop(obj, axis=1, inplace=True)\n",
    "test.drop(obj, axis=1, inplace=True)"
   ]
  },
  {
   "cell_type": "code",
   "execution_count": 60,
   "id": "87b1af52",
   "metadata": {
    "scrolled": true
   },
   "outputs": [
    {
     "data": {
      "text/plain": [
       "(int64      1406\n",
       " float64     615\n",
       " dtype: int64,\n",
       " int64      1405\n",
       " float64     615\n",
       " dtype: int64)"
      ]
     },
     "execution_count": 60,
     "metadata": {},
     "output_type": "execute_result"
    }
   ],
   "source": [
    "train.dtypes.value_counts(), test.dtypes.value_counts()"
   ]
  },
  {
   "cell_type": "markdown",
   "id": "cce8ceb6",
   "metadata": {},
   "source": [
    "## c) Working with numeric variables\n",
    "<br>\n",
    "<br>\n",
    "<br>"
   ]
  },
  {
   "cell_type": "code",
   "execution_count": 61,
   "id": "3b1854b8",
   "metadata": {
    "scrolled": false
   },
   "outputs": [
    {
     "data": {
      "text/plain": [
       "VAR_1428       1\n",
       "VAR_0847       1\n",
       "VAR_0237_WY    2\n",
       "VAR_0005_N     2\n",
       "VAR_0237_WV    2\n",
       "dtype: int64"
      ]
     },
     "execution_count": 61,
     "metadata": {},
     "output_type": "execute_result"
    }
   ],
   "source": [
    "train.nunique(axis=0, dropna=False).sort_values().head()"
   ]
  },
  {
   "cell_type": "code",
   "execution_count": 62,
   "id": "bee32deb",
   "metadata": {
    "scrolled": true
   },
   "outputs": [
    {
     "data": {
      "text/plain": [
       "['VAR_0847', 'VAR_1428']"
      ]
     },
     "execution_count": 62,
     "metadata": {},
     "output_type": "execute_result"
    }
   ],
   "source": [
    "[col for col in train.columns if len(train[col].unique()) == 1]"
   ]
  },
  {
   "cell_type": "code",
   "execution_count": 63,
   "id": "98594dd5",
   "metadata": {},
   "outputs": [],
   "source": [
    "train.drop([col for col in train.columns if len(train[col].unique()) == 1], axis=1, inplace=True)"
   ]
  },
  {
   "cell_type": "code",
   "execution_count": 64,
   "id": "39b65116",
   "metadata": {},
   "outputs": [],
   "source": [
    "test.drop(['VAR_0847', 'VAR_1428'], axis=1, inplace=True)"
   ]
  },
  {
   "cell_type": "code",
   "execution_count": 65,
   "id": "c6fca61a",
   "metadata": {},
   "outputs": [
    {
     "data": {
      "text/plain": [
       "(int64      1404\n",
       " float64     615\n",
       " dtype: int64,\n",
       " int64      1403\n",
       " float64     615\n",
       " dtype: int64)"
      ]
     },
     "execution_count": 65,
     "metadata": {},
     "output_type": "execute_result"
    }
   ],
   "source": [
    "train.dtypes.value_counts(), test.dtypes.value_counts()"
   ]
  },
  {
   "cell_type": "markdown",
   "id": "b04e54b3",
   "metadata": {},
   "source": [
    "### Summarizing info on all variables into a dataset"
   ]
  },
  {
   "cell_type": "code",
   "execution_count": 66,
   "id": "608f78f1",
   "metadata": {},
   "outputs": [],
   "source": [
    "many_outliers = pd.DataFrame()\n",
    "for col in train.columns:\n",
    "    q_low = train[col].quantile(0.01)\n",
    "    q_hi  = train[col].quantile(0.99)\n",
    "    many_outliers = many_outliers.append(pd.DataFrame({'name': [col], \n",
    "                                                       'outliers': [len(train[col][(train[col] < q_low) | (train[col] > q_hi)])],\n",
    "                                                       'unique': [len(train[col].unique())],\n",
    "                                                       'missing': [train[col].isna().sum()],\n",
    "                                                       'majority': [train[col].value_counts().max()]\n",
    "                                                      }))\n",
    "many_outliers.reset_index(drop=True, inplace=True)"
   ]
  },
  {
   "cell_type": "code",
   "execution_count": 67,
   "id": "8429e569",
   "metadata": {
    "scrolled": false
   },
   "outputs": [
    {
     "data": {
      "text/html": [
       "<div>\n",
       "<style scoped>\n",
       "    .dataframe tbody tr th:only-of-type {\n",
       "        vertical-align: middle;\n",
       "    }\n",
       "\n",
       "    .dataframe tbody tr th {\n",
       "        vertical-align: top;\n",
       "    }\n",
       "\n",
       "    .dataframe thead th {\n",
       "        text-align: right;\n",
       "    }\n",
       "</style>\n",
       "<table border=\"1\" class=\"dataframe\">\n",
       "  <thead>\n",
       "    <tr style=\"text-align: right;\">\n",
       "      <th></th>\n",
       "      <th>name</th>\n",
       "      <th>outliers</th>\n",
       "      <th>unique</th>\n",
       "      <th>missing</th>\n",
       "      <th>majority</th>\n",
       "    </tr>\n",
       "  </thead>\n",
       "  <tbody>\n",
       "    <tr>\n",
       "      <th>0</th>\n",
       "      <td>ID</td>\n",
       "      <td>2906</td>\n",
       "      <td>145231</td>\n",
       "      <td>0</td>\n",
       "      <td>1</td>\n",
       "    </tr>\n",
       "    <tr>\n",
       "      <th>1</th>\n",
       "      <td>VAR_0002</td>\n",
       "      <td>713</td>\n",
       "      <td>820</td>\n",
       "      <td>0</td>\n",
       "      <td>5264</td>\n",
       "    </tr>\n",
       "    <tr>\n",
       "      <th>2</th>\n",
       "      <td>VAR_0003</td>\n",
       "      <td>1453</td>\n",
       "      <td>588</td>\n",
       "      <td>0</td>\n",
       "      <td>17436</td>\n",
       "    </tr>\n",
       "    <tr>\n",
       "      <th>3</th>\n",
       "      <td>VAR_0004</td>\n",
       "      <td>1451</td>\n",
       "      <td>7935</td>\n",
       "      <td>0</td>\n",
       "      <td>3195</td>\n",
       "    </tr>\n",
       "    <tr>\n",
       "      <th>4</th>\n",
       "      <td>VAR_0006</td>\n",
       "      <td>1381</td>\n",
       "      <td>38</td>\n",
       "      <td>56</td>\n",
       "      <td>98966</td>\n",
       "    </tr>\n",
       "  </tbody>\n",
       "</table>\n",
       "</div>"
      ],
      "text/plain": [
       "       name  outliers  unique  missing  majority\n",
       "0        ID      2906  145231        0         1\n",
       "1  VAR_0002       713     820        0      5264\n",
       "2  VAR_0003      1453     588        0     17436\n",
       "3  VAR_0004      1451    7935        0      3195\n",
       "4  VAR_0006      1381      38       56     98966"
      ]
     },
     "execution_count": 67,
     "metadata": {},
     "output_type": "execute_result"
    }
   ],
   "source": [
    "many_outliers.head()"
   ]
  },
  {
   "cell_type": "code",
   "execution_count": 76,
   "id": "da07ee73",
   "metadata": {
    "scrolled": false
   },
   "outputs": [
    {
     "data": {
      "text/html": [
       "<div>\n",
       "<style scoped>\n",
       "    .dataframe tbody tr th:only-of-type {\n",
       "        vertical-align: middle;\n",
       "    }\n",
       "\n",
       "    .dataframe tbody tr th {\n",
       "        vertical-align: top;\n",
       "    }\n",
       "\n",
       "    .dataframe thead th {\n",
       "        text-align: right;\n",
       "    }\n",
       "</style>\n",
       "<table border=\"1\" class=\"dataframe\">\n",
       "  <thead>\n",
       "    <tr style=\"text-align: right;\">\n",
       "      <th></th>\n",
       "      <th>name</th>\n",
       "      <th>outliers</th>\n",
       "      <th>unique</th>\n",
       "      <th>missing</th>\n",
       "      <th>majority</th>\n",
       "    </tr>\n",
       "  </thead>\n",
       "  <tbody>\n",
       "    <tr>\n",
       "      <th>1054</th>\n",
       "      <td>VAR_1110</td>\n",
       "      <td>2827</td>\n",
       "      <td>222</td>\n",
       "      <td>0</td>\n",
       "      <td>4488</td>\n",
       "    </tr>\n",
       "    <tr>\n",
       "      <th>231</th>\n",
       "      <td>VAR_0273</td>\n",
       "      <td>2842</td>\n",
       "      <td>730</td>\n",
       "      <td>918</td>\n",
       "      <td>1464</td>\n",
       "    </tr>\n",
       "    <tr>\n",
       "      <th>804</th>\n",
       "      <td>VAR_0860</td>\n",
       "      <td>2857</td>\n",
       "      <td>635</td>\n",
       "      <td>0</td>\n",
       "      <td>981</td>\n",
       "    </tr>\n",
       "    <tr>\n",
       "      <th>200</th>\n",
       "      <td>VAR_0242</td>\n",
       "      <td>2857</td>\n",
       "      <td>669</td>\n",
       "      <td>918</td>\n",
       "      <td>1302</td>\n",
       "    </tr>\n",
       "    <tr>\n",
       "      <th>230</th>\n",
       "      <td>VAR_0272</td>\n",
       "      <td>2860</td>\n",
       "      <td>758</td>\n",
       "      <td>918</td>\n",
       "      <td>1483</td>\n",
       "    </tr>\n",
       "    <tr>\n",
       "      <th>1089</th>\n",
       "      <td>VAR_1145</td>\n",
       "      <td>2869</td>\n",
       "      <td>647</td>\n",
       "      <td>0</td>\n",
       "      <td>931</td>\n",
       "    </tr>\n",
       "    <tr>\n",
       "      <th>866</th>\n",
       "      <td>VAR_0922</td>\n",
       "      <td>2874</td>\n",
       "      <td>651</td>\n",
       "      <td>0</td>\n",
       "      <td>923</td>\n",
       "    </tr>\n",
       "    <tr>\n",
       "      <th>294</th>\n",
       "      <td>VAR_0340</td>\n",
       "      <td>2888</td>\n",
       "      <td>22536</td>\n",
       "      <td>918</td>\n",
       "      <td>112964</td>\n",
       "    </tr>\n",
       "    <tr>\n",
       "      <th>1038</th>\n",
       "      <td>VAR_1094</td>\n",
       "      <td>2895</td>\n",
       "      <td>5210</td>\n",
       "      <td>0</td>\n",
       "      <td>2159</td>\n",
       "    </tr>\n",
       "    <tr>\n",
       "      <th>1039</th>\n",
       "      <td>VAR_1095</td>\n",
       "      <td>2896</td>\n",
       "      <td>5209</td>\n",
       "      <td>0</td>\n",
       "      <td>2166</td>\n",
       "    </tr>\n",
       "    <tr>\n",
       "      <th>1088</th>\n",
       "      <td>VAR_1144</td>\n",
       "      <td>2896</td>\n",
       "      <td>651</td>\n",
       "      <td>0</td>\n",
       "      <td>918</td>\n",
       "    </tr>\n",
       "    <tr>\n",
       "      <th>199</th>\n",
       "      <td>VAR_0241</td>\n",
       "      <td>2897</td>\n",
       "      <td>16647</td>\n",
       "      <td>56</td>\n",
       "      <td>189</td>\n",
       "    </tr>\n",
       "    <tr>\n",
       "      <th>1040</th>\n",
       "      <td>VAR_1096</td>\n",
       "      <td>2897</td>\n",
       "      <td>5402</td>\n",
       "      <td>0</td>\n",
       "      <td>2044</td>\n",
       "    </tr>\n",
       "    <tr>\n",
       "      <th>1041</th>\n",
       "      <td>VAR_1097</td>\n",
       "      <td>2898</td>\n",
       "      <td>5402</td>\n",
       "      <td>0</td>\n",
       "      <td>2051</td>\n",
       "    </tr>\n",
       "    <tr>\n",
       "      <th>1026</th>\n",
       "      <td>VAR_1082</td>\n",
       "      <td>2904</td>\n",
       "      <td>75972</td>\n",
       "      <td>0</td>\n",
       "      <td>1188</td>\n",
       "    </tr>\n",
       "    <tr>\n",
       "      <th>193</th>\n",
       "      <td>VAR_0228</td>\n",
       "      <td>2904</td>\n",
       "      <td>145172</td>\n",
       "      <td>56</td>\n",
       "      <td>2</td>\n",
       "    </tr>\n",
       "    <tr>\n",
       "      <th>192</th>\n",
       "      <td>VAR_0227</td>\n",
       "      <td>2904</td>\n",
       "      <td>145172</td>\n",
       "      <td>56</td>\n",
       "      <td>2</td>\n",
       "    </tr>\n",
       "    <tr>\n",
       "      <th>487</th>\n",
       "      <td>VAR_0541</td>\n",
       "      <td>2905</td>\n",
       "      <td>64229</td>\n",
       "      <td>0</td>\n",
       "      <td>1290</td>\n",
       "    </tr>\n",
       "    <tr>\n",
       "      <th>1025</th>\n",
       "      <td>VAR_1081</td>\n",
       "      <td>2906</td>\n",
       "      <td>75383</td>\n",
       "      <td>0</td>\n",
       "      <td>1290</td>\n",
       "    </tr>\n",
       "    <tr>\n",
       "      <th>0</th>\n",
       "      <td>ID</td>\n",
       "      <td>2906</td>\n",
       "      <td>145231</td>\n",
       "      <td>0</td>\n",
       "      <td>1</td>\n",
       "    </tr>\n",
       "  </tbody>\n",
       "</table>\n",
       "</div>"
      ],
      "text/plain": [
       "          name  outliers  unique  missing  majority\n",
       "1054  VAR_1110      2827     222        0      4488\n",
       "231   VAR_0273      2842     730      918      1464\n",
       "804   VAR_0860      2857     635        0       981\n",
       "200   VAR_0242      2857     669      918      1302\n",
       "230   VAR_0272      2860     758      918      1483\n",
       "1089  VAR_1145      2869     647        0       931\n",
       "866   VAR_0922      2874     651        0       923\n",
       "294   VAR_0340      2888   22536      918    112964\n",
       "1038  VAR_1094      2895    5210        0      2159\n",
       "1039  VAR_1095      2896    5209        0      2166\n",
       "1088  VAR_1144      2896     651        0       918\n",
       "199   VAR_0241      2897   16647       56       189\n",
       "1040  VAR_1096      2897    5402        0      2044\n",
       "1041  VAR_1097      2898    5402        0      2051\n",
       "1026  VAR_1082      2904   75972        0      1188\n",
       "193   VAR_0228      2904  145172       56         2\n",
       "192   VAR_0227      2904  145172       56         2\n",
       "487   VAR_0541      2905   64229        0      1290\n",
       "1025  VAR_1081      2906   75383        0      1290\n",
       "0           ID      2906  145231        0         1"
      ]
     },
     "execution_count": 76,
     "metadata": {},
     "output_type": "execute_result"
    }
   ],
   "source": [
    "many_outliers.sort_values('outliers').tail(20)"
   ]
  },
  {
   "cell_type": "code",
   "execution_count": 77,
   "id": "0bb261c8",
   "metadata": {
    "scrolled": false
   },
   "outputs": [
    {
     "data": {
      "text/html": [
       "<div>\n",
       "<style scoped>\n",
       "    .dataframe tbody tr th:only-of-type {\n",
       "        vertical-align: middle;\n",
       "    }\n",
       "\n",
       "    .dataframe tbody tr th {\n",
       "        vertical-align: top;\n",
       "    }\n",
       "\n",
       "    .dataframe thead th {\n",
       "        text-align: right;\n",
       "    }\n",
       "</style>\n",
       "<table border=\"1\" class=\"dataframe\">\n",
       "  <thead>\n",
       "    <tr style=\"text-align: right;\">\n",
       "      <th></th>\n",
       "      <th>name</th>\n",
       "      <th>outliers</th>\n",
       "      <th>unique</th>\n",
       "      <th>missing</th>\n",
       "      <th>majority</th>\n",
       "    </tr>\n",
       "  </thead>\n",
       "  <tbody>\n",
       "    <tr>\n",
       "      <th>253</th>\n",
       "      <td>VAR_0297</td>\n",
       "      <td>1438</td>\n",
       "      <td>38863</td>\n",
       "      <td>918</td>\n",
       "      <td>81703</td>\n",
       "    </tr>\n",
       "    <tr>\n",
       "      <th>268</th>\n",
       "      <td>VAR_0313</td>\n",
       "      <td>1444</td>\n",
       "      <td>39592</td>\n",
       "      <td>918</td>\n",
       "      <td>63723</td>\n",
       "    </tr>\n",
       "    <tr>\n",
       "      <th>252</th>\n",
       "      <td>VAR_0296</td>\n",
       "      <td>1445</td>\n",
       "      <td>40599</td>\n",
       "      <td>918</td>\n",
       "      <td>78446</td>\n",
       "    </tr>\n",
       "    <tr>\n",
       "      <th>249</th>\n",
       "      <td>VAR_0293</td>\n",
       "      <td>1445</td>\n",
       "      <td>41176</td>\n",
       "      <td>918</td>\n",
       "      <td>61939</td>\n",
       "    </tr>\n",
       "    <tr>\n",
       "      <th>1432</th>\n",
       "      <td>VAR_1489</td>\n",
       "      <td>2048</td>\n",
       "      <td>44818</td>\n",
       "      <td>0</td>\n",
       "      <td>14906</td>\n",
       "    </tr>\n",
       "    <tr>\n",
       "      <th>1438</th>\n",
       "      <td>VAR_1495</td>\n",
       "      <td>2043</td>\n",
       "      <td>45298</td>\n",
       "      <td>0</td>\n",
       "      <td>7536</td>\n",
       "    </tr>\n",
       "    <tr>\n",
       "      <th>1437</th>\n",
       "      <td>VAR_1494</td>\n",
       "      <td>1708</td>\n",
       "      <td>50377</td>\n",
       "      <td>0</td>\n",
       "      <td>14906</td>\n",
       "    </tr>\n",
       "    <tr>\n",
       "      <th>487</th>\n",
       "      <td>VAR_0541</td>\n",
       "      <td>2905</td>\n",
       "      <td>64229</td>\n",
       "      <td>0</td>\n",
       "      <td>1290</td>\n",
       "    </tr>\n",
       "    <tr>\n",
       "      <th>1125</th>\n",
       "      <td>VAR_1181</td>\n",
       "      <td>2406</td>\n",
       "      <td>71090</td>\n",
       "      <td>0</td>\n",
       "      <td>1188</td>\n",
       "    </tr>\n",
       "    <tr>\n",
       "      <th>1123</th>\n",
       "      <td>VAR_1179</td>\n",
       "      <td>2404</td>\n",
       "      <td>75062</td>\n",
       "      <td>0</td>\n",
       "      <td>1295</td>\n",
       "    </tr>\n",
       "    <tr>\n",
       "      <th>1025</th>\n",
       "      <td>VAR_1081</td>\n",
       "      <td>2906</td>\n",
       "      <td>75383</td>\n",
       "      <td>0</td>\n",
       "      <td>1290</td>\n",
       "    </tr>\n",
       "    <tr>\n",
       "      <th>1124</th>\n",
       "      <td>VAR_1180</td>\n",
       "      <td>2411</td>\n",
       "      <td>75583</td>\n",
       "      <td>0</td>\n",
       "      <td>1188</td>\n",
       "    </tr>\n",
       "    <tr>\n",
       "      <th>1026</th>\n",
       "      <td>VAR_1082</td>\n",
       "      <td>2904</td>\n",
       "      <td>75972</td>\n",
       "      <td>0</td>\n",
       "      <td>1188</td>\n",
       "    </tr>\n",
       "    <tr>\n",
       "      <th>1031</th>\n",
       "      <td>VAR_1087</td>\n",
       "      <td>2709</td>\n",
       "      <td>79850</td>\n",
       "      <td>0</td>\n",
       "      <td>1896</td>\n",
       "    </tr>\n",
       "    <tr>\n",
       "      <th>489</th>\n",
       "      <td>VAR_0543</td>\n",
       "      <td>2762</td>\n",
       "      <td>81073</td>\n",
       "      <td>0</td>\n",
       "      <td>1759</td>\n",
       "    </tr>\n",
       "    <tr>\n",
       "      <th>843</th>\n",
       "      <td>VAR_0899</td>\n",
       "      <td>1453</td>\n",
       "      <td>82419</td>\n",
       "      <td>0</td>\n",
       "      <td>2095</td>\n",
       "    </tr>\n",
       "    <tr>\n",
       "      <th>184</th>\n",
       "      <td>VAR_0212</td>\n",
       "      <td>2654</td>\n",
       "      <td>128762</td>\n",
       "      <td>12550</td>\n",
       "      <td>5</td>\n",
       "    </tr>\n",
       "    <tr>\n",
       "      <th>192</th>\n",
       "      <td>VAR_0227</td>\n",
       "      <td>2904</td>\n",
       "      <td>145172</td>\n",
       "      <td>56</td>\n",
       "      <td>2</td>\n",
       "    </tr>\n",
       "    <tr>\n",
       "      <th>193</th>\n",
       "      <td>VAR_0228</td>\n",
       "      <td>2904</td>\n",
       "      <td>145172</td>\n",
       "      <td>56</td>\n",
       "      <td>2</td>\n",
       "    </tr>\n",
       "    <tr>\n",
       "      <th>0</th>\n",
       "      <td>ID</td>\n",
       "      <td>2906</td>\n",
       "      <td>145231</td>\n",
       "      <td>0</td>\n",
       "      <td>1</td>\n",
       "    </tr>\n",
       "  </tbody>\n",
       "</table>\n",
       "</div>"
      ],
      "text/plain": [
       "          name  outliers  unique  missing  majority\n",
       "253   VAR_0297      1438   38863      918     81703\n",
       "268   VAR_0313      1444   39592      918     63723\n",
       "252   VAR_0296      1445   40599      918     78446\n",
       "249   VAR_0293      1445   41176      918     61939\n",
       "1432  VAR_1489      2048   44818        0     14906\n",
       "1438  VAR_1495      2043   45298        0      7536\n",
       "1437  VAR_1494      1708   50377        0     14906\n",
       "487   VAR_0541      2905   64229        0      1290\n",
       "1125  VAR_1181      2406   71090        0      1188\n",
       "1123  VAR_1179      2404   75062        0      1295\n",
       "1025  VAR_1081      2906   75383        0      1290\n",
       "1124  VAR_1180      2411   75583        0      1188\n",
       "1026  VAR_1082      2904   75972        0      1188\n",
       "1031  VAR_1087      2709   79850        0      1896\n",
       "489   VAR_0543      2762   81073        0      1759\n",
       "843   VAR_0899      1453   82419        0      2095\n",
       "184   VAR_0212      2654  128762    12550         5\n",
       "192   VAR_0227      2904  145172       56         2\n",
       "193   VAR_0228      2904  145172       56         2\n",
       "0           ID      2906  145231        0         1"
      ]
     },
     "execution_count": 77,
     "metadata": {},
     "output_type": "execute_result"
    }
   ],
   "source": [
    "many_outliers.sort_values('unique').tail(20)"
   ]
  },
  {
   "cell_type": "code",
   "execution_count": 78,
   "id": "02cb699c",
   "metadata": {
    "scrolled": true
   },
   "outputs": [
    {
     "data": {
      "text/html": [
       "<div>\n",
       "<style scoped>\n",
       "    .dataframe tbody tr th:only-of-type {\n",
       "        vertical-align: middle;\n",
       "    }\n",
       "\n",
       "    .dataframe tbody tr th {\n",
       "        vertical-align: top;\n",
       "    }\n",
       "\n",
       "    .dataframe thead th {\n",
       "        text-align: right;\n",
       "    }\n",
       "</style>\n",
       "<table border=\"1\" class=\"dataframe\">\n",
       "  <thead>\n",
       "    <tr style=\"text-align: right;\">\n",
       "      <th></th>\n",
       "      <th>name</th>\n",
       "      <th>outliers</th>\n",
       "      <th>unique</th>\n",
       "      <th>missing</th>\n",
       "      <th>majority</th>\n",
       "    </tr>\n",
       "  </thead>\n",
       "  <tbody>\n",
       "    <tr>\n",
       "      <th>311</th>\n",
       "      <td>VAR_0361</td>\n",
       "      <td>1716</td>\n",
       "      <td>192</td>\n",
       "      <td>918</td>\n",
       "      <td>8869</td>\n",
       "    </tr>\n",
       "    <tr>\n",
       "      <th>318</th>\n",
       "      <td>VAR_0368</td>\n",
       "      <td>1410</td>\n",
       "      <td>254</td>\n",
       "      <td>918</td>\n",
       "      <td>122305</td>\n",
       "    </tr>\n",
       "    <tr>\n",
       "      <th>319</th>\n",
       "      <td>VAR_0369</td>\n",
       "      <td>1425</td>\n",
       "      <td>3464</td>\n",
       "      <td>918</td>\n",
       "      <td>134450</td>\n",
       "    </tr>\n",
       "    <tr>\n",
       "      <th>310</th>\n",
       "      <td>VAR_0360</td>\n",
       "      <td>789</td>\n",
       "      <td>25</td>\n",
       "      <td>918</td>\n",
       "      <td>35991</td>\n",
       "    </tr>\n",
       "    <tr>\n",
       "      <th>321</th>\n",
       "      <td>VAR_0371</td>\n",
       "      <td>216</td>\n",
       "      <td>5</td>\n",
       "      <td>918</td>\n",
       "      <td>144097</td>\n",
       "    </tr>\n",
       "    <tr>\n",
       "      <th>309</th>\n",
       "      <td>VAR_0359</td>\n",
       "      <td>1088</td>\n",
       "      <td>16</td>\n",
       "      <td>918</td>\n",
       "      <td>49900</td>\n",
       "    </tr>\n",
       "    <tr>\n",
       "      <th>308</th>\n",
       "      <td>VAR_0358</td>\n",
       "      <td>536</td>\n",
       "      <td>13</td>\n",
       "      <td>918</td>\n",
       "      <td>74393</td>\n",
       "    </tr>\n",
       "    <tr>\n",
       "      <th>323</th>\n",
       "      <td>VAR_0373</td>\n",
       "      <td>55</td>\n",
       "      <td>6</td>\n",
       "      <td>918</td>\n",
       "      <td>142363</td>\n",
       "    </tr>\n",
       "    <tr>\n",
       "      <th>322</th>\n",
       "      <td>VAR_0372</td>\n",
       "      <td>856</td>\n",
       "      <td>5</td>\n",
       "      <td>918</td>\n",
       "      <td>143457</td>\n",
       "    </tr>\n",
       "    <tr>\n",
       "      <th>320</th>\n",
       "      <td>VAR_0370</td>\n",
       "      <td>1427</td>\n",
       "      <td>494</td>\n",
       "      <td>918</td>\n",
       "      <td>134450</td>\n",
       "    </tr>\n",
       "    <tr>\n",
       "      <th>303</th>\n",
       "      <td>VAR_0350</td>\n",
       "      <td>0</td>\n",
       "      <td>9</td>\n",
       "      <td>927</td>\n",
       "      <td>131363</td>\n",
       "    </tr>\n",
       "    <tr>\n",
       "      <th>184</th>\n",
       "      <td>VAR_0212</td>\n",
       "      <td>2654</td>\n",
       "      <td>128762</td>\n",
       "      <td>12550</td>\n",
       "      <td>5</td>\n",
       "    </tr>\n",
       "    <tr>\n",
       "      <th>1887</th>\n",
       "      <td>VAR_0073_month_sin</td>\n",
       "      <td>0</td>\n",
       "      <td>12</td>\n",
       "      <td>101127</td>\n",
       "      <td>6593</td>\n",
       "    </tr>\n",
       "    <tr>\n",
       "      <th>1889</th>\n",
       "      <td>VAR_0073_weekend</td>\n",
       "      <td>0</td>\n",
       "      <td>3</td>\n",
       "      <td>101127</td>\n",
       "      <td>36940</td>\n",
       "    </tr>\n",
       "    <tr>\n",
       "      <th>1888</th>\n",
       "      <td>VAR_0073_month_cos</td>\n",
       "      <td>0</td>\n",
       "      <td>12</td>\n",
       "      <td>101127</td>\n",
       "      <td>6605</td>\n",
       "    </tr>\n",
       "    <tr>\n",
       "      <th>64</th>\n",
       "      <td>VAR_0074</td>\n",
       "      <td>842</td>\n",
       "      <td>4565</td>\n",
       "      <td>101127</td>\n",
       "      <td>2324</td>\n",
       "    </tr>\n",
       "    <tr>\n",
       "      <th>182</th>\n",
       "      <td>VAR_0210</td>\n",
       "      <td>242</td>\n",
       "      <td>393</td>\n",
       "      <td>125775</td>\n",
       "      <td>585</td>\n",
       "    </tr>\n",
       "    <tr>\n",
       "      <th>180</th>\n",
       "      <td>VAR_0208</td>\n",
       "      <td>242</td>\n",
       "      <td>393</td>\n",
       "      <td>125775</td>\n",
       "      <td>585</td>\n",
       "    </tr>\n",
       "    <tr>\n",
       "      <th>183</th>\n",
       "      <td>VAR_0211</td>\n",
       "      <td>242</td>\n",
       "      <td>393</td>\n",
       "      <td>125775</td>\n",
       "      <td>585</td>\n",
       "    </tr>\n",
       "    <tr>\n",
       "      <th>1884</th>\n",
       "      <td>VAR_0179_month_sin</td>\n",
       "      <td>0</td>\n",
       "      <td>12</td>\n",
       "      <td>127699</td>\n",
       "      <td>2845</td>\n",
       "    </tr>\n",
       "    <tr>\n",
       "      <th>1886</th>\n",
       "      <td>VAR_0179_weekend</td>\n",
       "      <td>0</td>\n",
       "      <td>3</td>\n",
       "      <td>127699</td>\n",
       "      <td>15898</td>\n",
       "    </tr>\n",
       "    <tr>\n",
       "      <th>1885</th>\n",
       "      <td>VAR_0179_month_cos</td>\n",
       "      <td>0</td>\n",
       "      <td>12</td>\n",
       "      <td>127699</td>\n",
       "      <td>2369</td>\n",
       "    </tr>\n",
       "    <tr>\n",
       "      <th>1893</th>\n",
       "      <td>VAR_0176_month_sin</td>\n",
       "      <td>0</td>\n",
       "      <td>12</td>\n",
       "      <td>127699</td>\n",
       "      <td>2784</td>\n",
       "    </tr>\n",
       "    <tr>\n",
       "      <th>1894</th>\n",
       "      <td>VAR_0176_month_cos</td>\n",
       "      <td>0</td>\n",
       "      <td>12</td>\n",
       "      <td>127699</td>\n",
       "      <td>2110</td>\n",
       "    </tr>\n",
       "    <tr>\n",
       "      <th>1895</th>\n",
       "      <td>VAR_0176_weekend</td>\n",
       "      <td>0</td>\n",
       "      <td>3</td>\n",
       "      <td>127699</td>\n",
       "      <td>15822</td>\n",
       "    </tr>\n",
       "    <tr>\n",
       "      <th>1891</th>\n",
       "      <td>VAR_0166_month_cos</td>\n",
       "      <td>0</td>\n",
       "      <td>12</td>\n",
       "      <td>131001</td>\n",
       "      <td>1763</td>\n",
       "    </tr>\n",
       "    <tr>\n",
       "      <th>1892</th>\n",
       "      <td>VAR_0166_weekend</td>\n",
       "      <td>0</td>\n",
       "      <td>3</td>\n",
       "      <td>131001</td>\n",
       "      <td>13030</td>\n",
       "    </tr>\n",
       "    <tr>\n",
       "      <th>1897</th>\n",
       "      <td>VAR_0169_month_cos</td>\n",
       "      <td>0</td>\n",
       "      <td>12</td>\n",
       "      <td>131001</td>\n",
       "      <td>1976</td>\n",
       "    </tr>\n",
       "    <tr>\n",
       "      <th>1898</th>\n",
       "      <td>VAR_0169_weekend</td>\n",
       "      <td>0</td>\n",
       "      <td>3</td>\n",
       "      <td>131001</td>\n",
       "      <td>13120</td>\n",
       "    </tr>\n",
       "    <tr>\n",
       "      <th>1890</th>\n",
       "      <td>VAR_0166_month_sin</td>\n",
       "      <td>0</td>\n",
       "      <td>12</td>\n",
       "      <td>131001</td>\n",
       "      <td>2218</td>\n",
       "    </tr>\n",
       "    <tr>\n",
       "      <th>1896</th>\n",
       "      <td>VAR_0169_month_sin</td>\n",
       "      <td>0</td>\n",
       "      <td>12</td>\n",
       "      <td>131001</td>\n",
       "      <td>2196</td>\n",
       "    </tr>\n",
       "    <tr>\n",
       "      <th>1905</th>\n",
       "      <td>VAR_0178_month_sin</td>\n",
       "      <td>0</td>\n",
       "      <td>12</td>\n",
       "      <td>133158</td>\n",
       "      <td>2143</td>\n",
       "    </tr>\n",
       "    <tr>\n",
       "      <th>1906</th>\n",
       "      <td>VAR_0178_month_cos</td>\n",
       "      <td>0</td>\n",
       "      <td>12</td>\n",
       "      <td>133158</td>\n",
       "      <td>2156</td>\n",
       "    </tr>\n",
       "    <tr>\n",
       "      <th>1907</th>\n",
       "      <td>VAR_0178_weekend</td>\n",
       "      <td>0</td>\n",
       "      <td>3</td>\n",
       "      <td>133158</td>\n",
       "      <td>11063</td>\n",
       "    </tr>\n",
       "    <tr>\n",
       "      <th>1899</th>\n",
       "      <td>VAR_0168_month_sin</td>\n",
       "      <td>0</td>\n",
       "      <td>12</td>\n",
       "      <td>134506</td>\n",
       "      <td>1755</td>\n",
       "    </tr>\n",
       "    <tr>\n",
       "      <th>1901</th>\n",
       "      <td>VAR_0168_weekend</td>\n",
       "      <td>0</td>\n",
       "      <td>3</td>\n",
       "      <td>134506</td>\n",
       "      <td>9845</td>\n",
       "    </tr>\n",
       "    <tr>\n",
       "      <th>1900</th>\n",
       "      <td>VAR_0168_month_cos</td>\n",
       "      <td>0</td>\n",
       "      <td>12</td>\n",
       "      <td>134506</td>\n",
       "      <td>1819</td>\n",
       "    </tr>\n",
       "    <tr>\n",
       "      <th>181</th>\n",
       "      <td>VAR_0209</td>\n",
       "      <td>94</td>\n",
       "      <td>1109</td>\n",
       "      <td>135844</td>\n",
       "      <td>193</td>\n",
       "    </tr>\n",
       "    <tr>\n",
       "      <th>179</th>\n",
       "      <td>VAR_0206</td>\n",
       "      <td>42</td>\n",
       "      <td>504</td>\n",
       "      <td>142903</td>\n",
       "      <td>15</td>\n",
       "    </tr>\n",
       "    <tr>\n",
       "      <th>178</th>\n",
       "      <td>VAR_0205</td>\n",
       "      <td>45</td>\n",
       "      <td>751</td>\n",
       "      <td>142974</td>\n",
       "      <td>11</td>\n",
       "    </tr>\n",
       "  </tbody>\n",
       "</table>\n",
       "</div>"
      ],
      "text/plain": [
       "                    name  outliers  unique  missing  majority\n",
       "311             VAR_0361      1716     192      918      8869\n",
       "318             VAR_0368      1410     254      918    122305\n",
       "319             VAR_0369      1425    3464      918    134450\n",
       "310             VAR_0360       789      25      918     35991\n",
       "321             VAR_0371       216       5      918    144097\n",
       "309             VAR_0359      1088      16      918     49900\n",
       "308             VAR_0358       536      13      918     74393\n",
       "323             VAR_0373        55       6      918    142363\n",
       "322             VAR_0372       856       5      918    143457\n",
       "320             VAR_0370      1427     494      918    134450\n",
       "303             VAR_0350         0       9      927    131363\n",
       "184             VAR_0212      2654  128762    12550         5\n",
       "1887  VAR_0073_month_sin         0      12   101127      6593\n",
       "1889    VAR_0073_weekend         0       3   101127     36940\n",
       "1888  VAR_0073_month_cos         0      12   101127      6605\n",
       "64              VAR_0074       842    4565   101127      2324\n",
       "182             VAR_0210       242     393   125775       585\n",
       "180             VAR_0208       242     393   125775       585\n",
       "183             VAR_0211       242     393   125775       585\n",
       "1884  VAR_0179_month_sin         0      12   127699      2845\n",
       "1886    VAR_0179_weekend         0       3   127699     15898\n",
       "1885  VAR_0179_month_cos         0      12   127699      2369\n",
       "1893  VAR_0176_month_sin         0      12   127699      2784\n",
       "1894  VAR_0176_month_cos         0      12   127699      2110\n",
       "1895    VAR_0176_weekend         0       3   127699     15822\n",
       "1891  VAR_0166_month_cos         0      12   131001      1763\n",
       "1892    VAR_0166_weekend         0       3   131001     13030\n",
       "1897  VAR_0169_month_cos         0      12   131001      1976\n",
       "1898    VAR_0169_weekend         0       3   131001     13120\n",
       "1890  VAR_0166_month_sin         0      12   131001      2218\n",
       "1896  VAR_0169_month_sin         0      12   131001      2196\n",
       "1905  VAR_0178_month_sin         0      12   133158      2143\n",
       "1906  VAR_0178_month_cos         0      12   133158      2156\n",
       "1907    VAR_0178_weekend         0       3   133158     11063\n",
       "1899  VAR_0168_month_sin         0      12   134506      1755\n",
       "1901    VAR_0168_weekend         0       3   134506      9845\n",
       "1900  VAR_0168_month_cos         0      12   134506      1819\n",
       "181             VAR_0209        94    1109   135844       193\n",
       "179             VAR_0206        42     504   142903        15\n",
       "178             VAR_0205        45     751   142974        11"
      ]
     },
     "execution_count": 78,
     "metadata": {},
     "output_type": "execute_result"
    }
   ],
   "source": [
    "many_outliers.sort_values('missing').tail(40)"
   ]
  },
  {
   "cell_type": "code",
   "execution_count": 79,
   "id": "cac5ad22",
   "metadata": {
    "scrolled": false
   },
   "outputs": [
    {
     "data": {
      "text/plain": [
       "<AxesSubplot:xlabel='name'>"
      ]
     },
     "execution_count": 79,
     "metadata": {},
     "output_type": "execute_result"
    },
    {
     "data": {
      "image/png": "[encoded data removed]",
      "text/plain": [
       "<Figure size 432x288 with 1 Axes>"
      ]
     },
     "metadata": {},
     "output_type": "display_data"
    }
   ],
   "source": [
    "many_outliers.sort_values('outliers').plot(x='name', y='outliers')"
   ]
  },
  {
   "cell_type": "code",
   "execution_count": 80,
   "id": "d2e98bb9",
   "metadata": {
    "scrolled": true
   },
   "outputs": [
    {
     "data": {
      "text/plain": [
       "<AxesSubplot:xlabel='name'>"
      ]
     },
     "execution_count": 80,
     "metadata": {},
     "output_type": "execute_result"
    },
    {
     "data": {
      "image/png": "[encoded data removed]",
      "text/plain": [
       "<Figure size 432x288 with 1 Axes>"
      ]
     },
     "metadata": {},
     "output_type": "display_data"
    }
   ],
   "source": [
    "many_outliers.sort_values('unique').tail(200).plot(x='name', y='unique')"
   ]
  },
  {
   "cell_type": "code",
   "execution_count": 81,
   "id": "ac1ed89a",
   "metadata": {
    "scrolled": true
   },
   "outputs": [
    {
     "data": {
      "text/plain": [
       "<AxesSubplot:xlabel='name'>"
      ]
     },
     "execution_count": 81,
     "metadata": {},
     "output_type": "execute_result"
    },
    {
     "data": {
      "image/png": "[encoded data removed]",
      "text/plain": [
       "<Figure size 432x288 with 1 Axes>"
      ]
     },
     "metadata": {},
     "output_type": "display_data"
    }
   ],
   "source": [
    "many_outliers.sort_values('missing').tail(50).plot(x='name', y='missing')"
   ]
  },
  {
   "cell_type": "code",
   "execution_count": 82,
   "id": "97d560a7",
   "metadata": {
    "scrolled": true
   },
   "outputs": [
    {
     "data": {
      "text/plain": [
       "<AxesSubplot:xlabel='name'>"
      ]
     },
     "execution_count": 82,
     "metadata": {},
     "output_type": "execute_result"
    },
    {
     "data": {
      "image/png": "[encoded data removed]",
      "text/plain": [
       "<Figure size 432x288 with 1 Axes>"
      ]
     },
     "metadata": {},
     "output_type": "display_data"
    }
   ],
   "source": [
    "many_outliers.sort_values('majority').tail(400).plot(x='name', y='majority')"
   ]
  },
  {
   "cell_type": "code",
   "execution_count": 83,
   "id": "c5fc1c63",
   "metadata": {
    "scrolled": true
   },
   "outputs": [
    {
     "data": {
      "text/plain": [
       "3024173.0    1\n",
       "3024181.0    1\n",
       "3024206.0    1\n",
       "3024217.0    1\n",
       "3024218.0    1\n",
       "3024221.0    1\n",
       "3024232.0    1\n",
       "3024233.0    1\n",
       "3024241.0    1\n",
       "3024265.0    1\n",
       "Name: VAR_0227, dtype: int64"
      ]
     },
     "execution_count": 83,
     "metadata": {},
     "output_type": "execute_result"
    }
   ],
   "source": [
    "train.VAR_0227.value_counts().sort_index().tail(10)"
   ]
  },
  {
   "cell_type": "code",
   "execution_count": 84,
   "id": "ef6c3dfb",
   "metadata": {
    "scrolled": true
   },
   "outputs": [
    {
     "data": {
      "text/plain": [
       "1761427.0    1\n",
       "1489143.0    1\n",
       "434300.0     1\n",
       "2776793.0    1\n",
       "2670695.0    1\n",
       "            ..\n",
       "1534932.0    1\n",
       "140781.0     2\n",
       "1536663.0    2\n",
       "618812.0     2\n",
       "2572617.0    2\n",
       "Name: VAR_0227, Length: 145171, dtype: int64"
      ]
     },
     "execution_count": 84,
     "metadata": {},
     "output_type": "execute_result"
    }
   ],
   "source": [
    "train.VAR_0227.value_counts().sort_values()"
   ]
  },
  {
   "cell_type": "code",
   "execution_count": 85,
   "id": "6a874909",
   "metadata": {
    "scrolled": false
   },
   "outputs": [
    {
     "data": {
      "text/plain": [
       "<AxesSubplot:>"
      ]
     },
     "execution_count": 85,
     "metadata": {},
     "output_type": "execute_result"
    },
    {
     "data": {
      "image/png": "[encoded data removed]",
      "text/plain": [
       "<Figure size 432x288 with 1 Axes>"
      ]
     },
     "metadata": {},
     "output_type": "display_data"
    }
   ],
   "source": [
    "train.VAR_0227.hist()"
   ]
  },
  {
   "cell_type": "code",
   "execution_count": 86,
   "id": "096d6a48",
   "metadata": {},
   "outputs": [
    {
     "data": {
      "text/plain": [
       "<AxesSubplot:>"
      ]
     },
     "execution_count": 86,
     "metadata": {},
     "output_type": "execute_result"
    },
    {
     "data": {
      "image/png": "[encoded data removed]",
      "text/plain": [
       "<Figure size 432x288 with 1 Axes>"
      ]
     },
     "metadata": {},
     "output_type": "display_data"
    }
   ],
   "source": [
    "train.VAR_1095.hist()"
   ]
  },
  {
   "cell_type": "markdown",
   "id": "94aaaee9",
   "metadata": {},
   "source": [
    "### Removing most correlated columns from dataset, about 50% of columns is removed."
   ]
  },
  {
   "cell_type": "code",
   "execution_count": 68,
   "id": "090104d1",
   "metadata": {},
   "outputs": [
    {
     "name": "stdout",
     "output_type": "stream",
     "text": [
      "CPU times: user 10min 58s, sys: 49.8 ms, total: 10min 58s\n",
      "Wall time: 10min 59s\n"
     ]
    }
   ],
   "source": [
    "%%time\n",
    "columns = [col for col in many_outliers.sort_values(['missing', 'unique'], ascending=(True, False)).name]\n",
    "columns.remove('target')\n",
    "columns.remove('ID')\n",
    "\n",
    "for col1 in columns:\n",
    "    for col2 in columns[columns.index(col1) + 1:]:\n",
    "        if abs(train[col1].corr(train[col2])) > 0.9:\n",
    "            columns.remove(col2)"
   ]
  },
  {
   "cell_type": "code",
   "execution_count": 69,
   "id": "bad0f5f5",
   "metadata": {
    "scrolled": false
   },
   "outputs": [
    {
     "data": {
      "text/plain": [
       "923"
      ]
     },
     "execution_count": 69,
     "metadata": {},
     "output_type": "execute_result"
    }
   ],
   "source": [
    "len(columns)"
   ]
  },
  {
   "cell_type": "code",
   "execution_count": 70,
   "id": "11265350",
   "metadata": {
    "scrolled": true
   },
   "outputs": [
    {
     "data": {
      "text/plain": [
       "((145231, 923), (145232, 923))"
      ]
     },
     "execution_count": 70,
     "metadata": {},
     "output_type": "execute_result"
    }
   ],
   "source": [
    "train[columns].shape, test[columns].shape"
   ]
  },
  {
   "cell_type": "code",
   "execution_count": 71,
   "id": "2b4d3fc8",
   "metadata": {},
   "outputs": [],
   "source": [
    "y = train.target.copy()"
   ]
  },
  {
   "cell_type": "markdown",
   "id": "ec0d7cf3",
   "metadata": {},
   "source": [
    "# 2. Building a model\n",
    "<br>\n",
    "<br>\n",
    "<br>"
   ]
  },
  {
   "cell_type": "code",
   "execution_count": 72,
   "id": "35e2ff98",
   "metadata": {},
   "outputs": [],
   "source": [
    "from sklearn.metrics import balanced_accuracy_score, roc_auc_score\n",
    "from sklearn.metrics import confusion_matrix, plot_confusion_matrix\n",
    "from sklearn.model_selection import train_test_split\n",
    "from sklearn.model_selection import GridSearchCV\n",
    "import xgboost as xgb"
   ]
  },
  {
   "cell_type": "code",
   "execution_count": 73,
   "id": "d18fb650",
   "metadata": {},
   "outputs": [],
   "source": [
    "X_train, X_valid, y_train, y_valid = train_test_split(train[columns], y, random_state=3, stratify=y)"
   ]
  },
  {
   "cell_type": "code",
   "execution_count": 74,
   "id": "c7918929",
   "metadata": {
    "scrolled": true
   },
   "outputs": [
    {
     "data": {
      "text/plain": [
       "((108923, 923), (36308, 923), (108923,), (36308,))"
      ]
     },
     "execution_count": 74,
     "metadata": {},
     "output_type": "execute_result"
    }
   ],
   "source": [
    "X_train.shape, X_valid.shape, y_train.shape, y_valid.shape"
   ]
  },
  {
   "cell_type": "code",
   "execution_count": 75,
   "id": "d81c70cb",
   "metadata": {
    "scrolled": true
   },
   "outputs": [
    {
     "data": {
      "text/plain": [
       "(0.23254959925819157, 0.23253828357386802)"
      ]
     },
     "execution_count": 75,
     "metadata": {},
     "output_type": "execute_result"
    }
   ],
   "source": [
    "y_train.sum()/y_train.count(), y_valid.sum()/y_valid.count()"
   ]
  },
  {
   "cell_type": "markdown",
   "id": "09906198",
   "metadata": {},
   "source": [
    "### Checking which hyperparameters make most impact, one by one."
   ]
  },
  {
   "cell_type": "code",
   "execution_count": 96,
   "id": "f5680202",
   "metadata": {},
   "outputs": [],
   "source": [
    "def param_plot(name, values):\n",
    "    gb = xgb.XGBClassifier(objective='binary:logistic',\n",
    "                       seed=3\n",
    "    )\n",
    "\n",
    "    params = {name: values}\n",
    "    grid_gb = GridSearchCV(gb, \n",
    "                           params, \n",
    "                           scoring='roc_auc', \n",
    "                           n_jobs=4, \n",
    "                           verbose=1, \n",
    "                           cv=3, \n",
    "                           return_train_score=True\n",
    "    )\n",
    "    \n",
    "    grid_gb.fit(X_train,\n",
    "            y_train,\n",
    "            early_stopping_rounds=10,\n",
    "            eval_metric='auc',\n",
    "            eval_set=[(X_valid, y_valid)],\n",
    "            verbose=False\n",
    "    )\n",
    "\n",
    "    plt.plot(params[name], grid_gb.cv_results_['mean_test_score'], label='test score')\n",
    "    plt.plot(params[name], grid_gb.cv_results_['mean_train_score'], label='train score')\n",
    "    plt.legend()"
   ]
  },
  {
   "cell_type": "code",
   "execution_count": 200,
   "id": "b923ee31",
   "metadata": {},
   "outputs": [
    {
     "name": "stdout",
     "output_type": "stream",
     "text": [
      "Fitting 3 folds for each of 4 candidates, totalling 12 fits\n",
      "CPU times: user 5min 51s, sys: 2.84 s, total: 5min 54s\n",
      "Wall time: 3min 27s\n"
     ]
    },
    {
     "data": {
      "image/png": "[encoded data removed]",
      "text/plain": [
       "<Figure size 432x288 with 1 Axes>"
      ]
     },
     "metadata": {},
     "output_type": "display_data"
    }
   ],
   "source": [
    "%%time\n",
    "param_plot('max_depth', [2, 3, 4, 5])"
   ]
  },
  {
   "cell_type": "code",
   "execution_count": 198,
   "id": "8b912d5a",
   "metadata": {},
   "outputs": [
    {
     "name": "stdout",
     "output_type": "stream",
     "text": [
      "Fitting 3 folds for each of 4 candidates, totalling 12 fits\n",
      "CPU times: user 10min 22s, sys: 2.6 s, total: 10min 24s\n",
      "Wall time: 5min 46s\n"
     ]
    },
    {
     "data": {
      "image/png": "[encoded data removed]",
      "text/plain": [
       "<Figure size 432x288 with 1 Axes>"
      ]
     },
     "metadata": {},
     "output_type": "display_data"
    }
   ],
   "source": [
    "%%time\n",
    "param_plot('learning_rate', [0.01, 0.05, 0.1, 0.3])"
   ]
  },
  {
   "cell_type": "code",
   "execution_count": 201,
   "id": "032f85a2",
   "metadata": {
    "scrolled": true
   },
   "outputs": [
    {
     "name": "stdout",
     "output_type": "stream",
     "text": [
      "Fitting 3 folds for each of 4 candidates, totalling 12 fits\n",
      "CPU times: user 6min 5s, sys: 2.27 s, total: 6min 8s\n",
      "Wall time: 3min 11s\n"
     ]
    },
    {
     "data": {
      "image/png": "[encoded data removed]",
      "text/plain": [
       "<Figure size 432x288 with 1 Axes>"
      ]
     },
     "metadata": {},
     "output_type": "display_data"
    }
   ],
   "source": [
    "%%time\n",
    "param_plot('min_child_weight', [0, 1, 2, 4])"
   ]
  },
  {
   "cell_type": "code",
   "execution_count": 203,
   "id": "36ac73b0",
   "metadata": {
    "scrolled": true
   },
   "outputs": [
    {
     "name": "stdout",
     "output_type": "stream",
     "text": [
      "Fitting 3 folds for each of 4 candidates, totalling 12 fits\n",
      "CPU times: user 5min 56s, sys: 1.86 s, total: 5min 57s\n",
      "Wall time: 2min 59s\n"
     ]
    },
    {
     "data": {
      "image/png": "[encoded data removed]",
      "text/plain": [
       "<Figure size 432x288 with 1 Axes>"
      ]
     },
     "metadata": {},
     "output_type": "display_data"
    }
   ],
   "source": [
    "%%time\n",
    "param_plot('subsample', [0.4, 0.6, 0.8, 1])"
   ]
  },
  {
   "cell_type": "code",
   "execution_count": 205,
   "id": "d3324b94",
   "metadata": {},
   "outputs": [
    {
     "name": "stdout",
     "output_type": "stream",
     "text": [
      "Fitting 3 folds for each of 4 candidates, totalling 12 fits\n",
      "CPU times: user 5min 55s, sys: 2 s, total: 5min 57s\n",
      "Wall time: 2min 36s\n"
     ]
    },
    {
     "data": {
      "image/png": "[encoded data removed]",
      "text/plain": [
       "<Figure size 432x288 with 1 Axes>"
      ]
     },
     "metadata": {},
     "output_type": "display_data"
    }
   ],
   "source": [
    "%%time\n",
    "param_plot('colsample_bytree', [0.4, 0.6, 0.8, 1])"
   ]
  },
  {
   "cell_type": "code",
   "execution_count": 207,
   "id": "9570488f",
   "metadata": {
    "scrolled": true
   },
   "outputs": [
    {
     "name": "stdout",
     "output_type": "stream",
     "text": [
      "Fitting 3 folds for each of 4 candidates, totalling 12 fits\n",
      "CPU times: user 5min 13s, sys: 1.84 s, total: 5min 14s\n",
      "Wall time: 2min 52s\n"
     ]
    },
    {
     "data": {
      "image/png": "[encoded data removed]",
      "text/plain": [
       "<Figure size 432x288 with 1 Axes>"
      ]
     },
     "metadata": {},
     "output_type": "display_data"
    }
   ],
   "source": [
    "%%time\n",
    "param_plot('gamma', [0, 5, 10, 20])"
   ]
  },
  {
   "cell_type": "code",
   "execution_count": 208,
   "id": "b087b6de",
   "metadata": {
    "scrolled": true
   },
   "outputs": [
    {
     "name": "stdout",
     "output_type": "stream",
     "text": [
      "Fitting 3 folds for each of 5 candidates, totalling 15 fits\n",
      "CPU times: user 5min 55s, sys: 2.07 s, total: 5min 57s\n",
      "Wall time: 3min 57s\n"
     ]
    },
    {
     "data": {
      "image/png": "[encoded data removed]",
      "text/plain": [
       "<Figure size 432x288 with 1 Axes>"
      ]
     },
     "metadata": {},
     "output_type": "display_data"
    }
   ],
   "source": [
    "%%time\n",
    "param_plot('lambda', [0, 0.5, 1, 2, 3])"
   ]
  },
  {
   "cell_type": "code",
   "execution_count": 209,
   "id": "0cb9773e",
   "metadata": {
    "scrolled": true
   },
   "outputs": [
    {
     "name": "stdout",
     "output_type": "stream",
     "text": [
      "Fitting 3 folds for each of 2 candidates, totalling 6 fits\n",
      "CPU times: user 5min 53s, sys: 1.87 s, total: 5min 55s\n",
      "Wall time: 1min 22s\n"
     ]
    },
    {
     "data": {
      "image/png": "[encoded data removed]",
      "text/plain": [
       "<Figure size 432x288 with 1 Axes>"
      ]
     },
     "metadata": {},
     "output_type": "display_data"
    }
   ],
   "source": [
    "%%time\n",
    "param_plot('tree_method', ['auto', 'hist'])"
   ]
  },
  {
   "cell_type": "code",
   "execution_count": 213,
   "id": "32fa120f",
   "metadata": {},
   "outputs": [
    {
     "data": {
      "text/plain": [
       "3.300157915515199"
      ]
     },
     "execution_count": 213,
     "metadata": {},
     "output_type": "execute_result"
    }
   ],
   "source": [
    "(y_train.count() - y_train.sum())/y_train.sum()"
   ]
  },
  {
   "cell_type": "code",
   "execution_count": 214,
   "id": "9ce337a1",
   "metadata": {
    "scrolled": false
   },
   "outputs": [
    {
     "name": "stdout",
     "output_type": "stream",
     "text": [
      "Fitting 3 folds for each of 2 candidates, totalling 6 fits\n",
      "CPU times: user 5min 55s, sys: 1.94 s, total: 5min 57s\n",
      "Wall time: 1min 54s\n"
     ]
    },
    {
     "data": {
      "image/png": "[encoded data removed]",
      "text/plain": [
       "<Figure size 432x288 with 1 Axes>"
      ]
     },
     "metadata": {},
     "output_type": "display_data"
    }
   ],
   "source": [
    "%%time\n",
    "param_plot('scale_pos_weight', [1, 3.3])"
   ]
  },
  {
   "cell_type": "code",
   "execution_count": 225,
   "id": "6cac3547",
   "metadata": {},
   "outputs": [
    {
     "name": "stdout",
     "output_type": "stream",
     "text": [
      "Fitting 3 folds for each of 4 candidates, totalling 12 fits\n",
      "CPU times: user 5min 16s, sys: 2.36 s, total: 5min 18s\n",
      "Wall time: 3min 12s\n"
     ]
    },
    {
     "data": {
      "image/png": "[encoded data removed]",
      "text/plain": [
       "<Figure size 432x288 with 1 Axes>"
      ]
     },
     "metadata": {},
     "output_type": "display_data"
    }
   ],
   "source": [
    "%%time\n",
    "param_plot('n_estimators', [50, 100, 300, 500])"
   ]
  },
  {
   "cell_type": "markdown",
   "id": "e6473bd1",
   "metadata": {},
   "source": [
    "### Hyperparameter tuning and creating predictions to submit on kaggle"
   ]
  },
  {
   "cell_type": "code",
   "execution_count": 78,
   "id": "c1eaa79c",
   "metadata": {},
   "outputs": [],
   "source": [
    "params = {\n",
    "    'max_depth': [2, 3, 4],\n",
    "    'learning_rate': [0.05, 0.1, 0.2],\n",
    "    'subsample': [0.8, 1], \n",
    "    'colsample_bytree': [0.6, 1],\n",
    "    'lambda': [1],\n",
    "    'gamma': [0, 50],\n",
    "    'tree_method': ['auto']\n",
    "    }"
   ]
  },
  {
   "cell_type": "code",
   "execution_count": 79,
   "id": "7b45029f",
   "metadata": {
    "scrolled": false
   },
   "outputs": [
    {
     "name": "stdout",
     "output_type": "stream",
     "text": [
      "Fitting 4 folds for each of 72 candidates, totalling 288 fits\n",
      "{'colsample_bytree': 1, 'gamma': 0, 'lambda': 1, 'learning_rate': 0.2, 'max_depth': 4, 'subsample': 1, 'tree_method': 'auto'}\n",
      "CPU times: user 17h 56min 49s, sys: 8min 56s, total: 18h 5min 46s\n",
      "Wall time: 1h 21min 24s\n"
     ]
    }
   ],
   "source": [
    "%%time\n",
    "gb = xgb.XGBClassifier(objective='binary:logistic',\n",
    "                       seed=3\n",
    ")\n",
    "\n",
    "grid_gb = GridSearchCV(gb, \n",
    "                       params, \n",
    "                       scoring='roc_auc', \n",
    "                       n_jobs=1, \n",
    "                       verbose=1, \n",
    "                       cv=4, \n",
    "                       return_train_score=True\n",
    ")\n",
    "\n",
    "grid_gb.fit(X_train,\n",
    "            y_train,\n",
    "            early_stopping_rounds=10,\n",
    "            eval_metric='auc',\n",
    "            eval_set=[(X_valid, y_valid)],\n",
    "            verbose=False\n",
    ")\n",
    "\n",
    "\n",
    "print(grid_gb.best_params_)\n",
    "\n",
    "\n",
    "pd.DataFrame({'mean_test_score':grid_gb.cv_results_['mean_test_score'],\n",
    "              'mean_train_score': grid_gb.cv_results_['mean_train_score']\n",
    "             },\n",
    "             index=grid_gb.cv_results_['params']).sort_values(by=['mean_test_score'], ascending=False).to_csv('Springleaf_scores_gb.csv')\n",
    "\n",
    "\n",
    "\n",
    "final_gb = xgb.XGBClassifier(objective='binary:logistic',\n",
    "                             seed=3,\n",
    "                             **grid_gb.best_params_                             \n",
    ")\n",
    "\n",
    "final_gb.fit(train[columns], y)\n",
    "\n",
    "\n",
    "pred = final_gb.predict(test[columns]).astype(int)\n",
    "submission = pd.DataFrame({'ID': test.ID, 'target':pred})\n",
    "submission.to_csv('Springleaf_submission_gb.csv', index=False)"
   ]
  },
  {
   "cell_type": "code",
   "execution_count": 80,
   "id": "c8d95f2c",
   "metadata": {
    "scrolled": true
   },
   "outputs": [
    {
     "name": "stdout",
     "output_type": "stream",
     "text": [
      "{'colsample_bytree': 1, 'gamma': 0, 'lambda': 1, 'learning_rate': 0.2, 'max_depth': 4, 'subsample': 1, 'tree_method': 'auto'}\n"
     ]
    }
   ],
   "source": [
    "print(grid_gb.best_params_)"
   ]
  },
  {
   "cell_type": "code",
   "execution_count": 81,
   "id": "c8b29b8b",
   "metadata": {
    "scrolled": false
   },
   "outputs": [
    {
     "data": {
      "text/plain": [
       "0.7709085184837855"
      ]
     },
     "execution_count": 81,
     "metadata": {},
     "output_type": "execute_result"
    }
   ],
   "source": [
    "grid_gb.best_score_"
   ]
  },
  {
   "cell_type": "code",
   "execution_count": 82,
   "id": "15c54dfe",
   "metadata": {
    "scrolled": false
   },
   "outputs": [
    {
     "data": {
      "text/html": [
       "<div>\n",
       "<style scoped>\n",
       "    .dataframe tbody tr th:only-of-type {\n",
       "        vertical-align: middle;\n",
       "    }\n",
       "\n",
       "    .dataframe tbody tr th {\n",
       "        vertical-align: top;\n",
       "    }\n",
       "\n",
       "    .dataframe thead th {\n",
       "        text-align: right;\n",
       "    }\n",
       "</style>\n",
       "<table border=\"1\" class=\"dataframe\">\n",
       "  <thead>\n",
       "    <tr style=\"text-align: right;\">\n",
       "      <th></th>\n",
       "      <th>mean_test_score</th>\n",
       "      <th>mean_train_score</th>\n",
       "    </tr>\n",
       "  </thead>\n",
       "  <tbody>\n",
       "    <tr>\n",
       "      <th>{'colsample_bytree': 1, 'gamma': 0, 'lambda': 1, 'learning_rate': 0.2, 'max_depth': 4, 'subsample': 1, 'tree_method': 'auto'}</th>\n",
       "      <td>0.770909</td>\n",
       "      <td>0.816430</td>\n",
       "    </tr>\n",
       "    <tr>\n",
       "      <th>{'colsample_bytree': 0.6, 'gamma': 0, 'lambda': 1, 'learning_rate': 0.2, 'max_depth': 4, 'subsample': 1, 'tree_method': 'auto'}</th>\n",
       "      <td>0.769860</td>\n",
       "      <td>0.815118</td>\n",
       "    </tr>\n",
       "    <tr>\n",
       "      <th>{'colsample_bytree': 0.6, 'gamma': 0, 'lambda': 1, 'learning_rate': 0.2, 'max_depth': 4, 'subsample': 0.8, 'tree_method': 'auto'}</th>\n",
       "      <td>0.769265</td>\n",
       "      <td>0.814716</td>\n",
       "    </tr>\n",
       "    <tr>\n",
       "      <th>{'colsample_bytree': 0.6, 'gamma': 0, 'lambda': 1, 'learning_rate': 0.2, 'max_depth': 3, 'subsample': 1, 'tree_method': 'auto'}</th>\n",
       "      <td>0.769246</td>\n",
       "      <td>0.792018</td>\n",
       "    </tr>\n",
       "    <tr>\n",
       "      <th>{'colsample_bytree': 0.6, 'gamma': 0, 'lambda': 1, 'learning_rate': 0.2, 'max_depth': 3, 'subsample': 0.8, 'tree_method': 'auto'}</th>\n",
       "      <td>0.769172</td>\n",
       "      <td>0.792099</td>\n",
       "    </tr>\n",
       "    <tr>\n",
       "      <th>{'colsample_bytree': 1, 'gamma': 0, 'lambda': 1, 'learning_rate': 0.1, 'max_depth': 4, 'subsample': 0.8, 'tree_method': 'auto'}</th>\n",
       "      <td>0.768951</td>\n",
       "      <td>0.797342</td>\n",
       "    </tr>\n",
       "    <tr>\n",
       "      <th>{'colsample_bytree': 0.6, 'gamma': 0, 'lambda': 1, 'learning_rate': 0.1, 'max_depth': 4, 'subsample': 0.8, 'tree_method': 'auto'}</th>\n",
       "      <td>0.768679</td>\n",
       "      <td>0.795715</td>\n",
       "    </tr>\n",
       "    <tr>\n",
       "      <th>{'colsample_bytree': 0.6, 'gamma': 0, 'lambda': 1, 'learning_rate': 0.1, 'max_depth': 4, 'subsample': 1, 'tree_method': 'auto'}</th>\n",
       "      <td>0.768666</td>\n",
       "      <td>0.795981</td>\n",
       "    </tr>\n",
       "    <tr>\n",
       "      <th>{'colsample_bytree': 1, 'gamma': 0, 'lambda': 1, 'learning_rate': 0.2, 'max_depth': 3, 'subsample': 0.8, 'tree_method': 'auto'}</th>\n",
       "      <td>0.768504</td>\n",
       "      <td>0.793154</td>\n",
       "    </tr>\n",
       "    <tr>\n",
       "      <th>{'colsample_bytree': 1, 'gamma': 0, 'lambda': 1, 'learning_rate': 0.2, 'max_depth': 3, 'subsample': 1, 'tree_method': 'auto'}</th>\n",
       "      <td>0.768420</td>\n",
       "      <td>0.793574</td>\n",
       "    </tr>\n",
       "  </tbody>\n",
       "</table>\n",
       "</div>"
      ],
      "text/plain": [
       "                                                    mean_test_score  \\\n",
       "{'colsample_bytree': 1, 'gamma': 0, 'lambda': 1...         0.770909   \n",
       "{'colsample_bytree': 0.6, 'gamma': 0, 'lambda':...         0.769860   \n",
       "{'colsample_bytree': 0.6, 'gamma': 0, 'lambda':...         0.769265   \n",
       "{'colsample_bytree': 0.6, 'gamma': 0, 'lambda':...         0.769246   \n",
       "{'colsample_bytree': 0.6, 'gamma': 0, 'lambda':...         0.769172   \n",
       "{'colsample_bytree': 1, 'gamma': 0, 'lambda': 1...         0.768951   \n",
       "{'colsample_bytree': 0.6, 'gamma': 0, 'lambda':...         0.768679   \n",
       "{'colsample_bytree': 0.6, 'gamma': 0, 'lambda':...         0.768666   \n",
       "{'colsample_bytree': 1, 'gamma': 0, 'lambda': 1...         0.768504   \n",
       "{'colsample_bytree': 1, 'gamma': 0, 'lambda': 1...         0.768420   \n",
       "\n",
       "                                                    mean_train_score  \n",
       "{'colsample_bytree': 1, 'gamma': 0, 'lambda': 1...          0.816430  \n",
       "{'colsample_bytree': 0.6, 'gamma': 0, 'lambda':...          0.815118  \n",
       "{'colsample_bytree': 0.6, 'gamma': 0, 'lambda':...          0.814716  \n",
       "{'colsample_bytree': 0.6, 'gamma': 0, 'lambda':...          0.792018  \n",
       "{'colsample_bytree': 0.6, 'gamma': 0, 'lambda':...          0.792099  \n",
       "{'colsample_bytree': 1, 'gamma': 0, 'lambda': 1...          0.797342  \n",
       "{'colsample_bytree': 0.6, 'gamma': 0, 'lambda':...          0.795715  \n",
       "{'colsample_bytree': 0.6, 'gamma': 0, 'lambda':...          0.795981  \n",
       "{'colsample_bytree': 1, 'gamma': 0, 'lambda': 1...          0.793154  \n",
       "{'colsample_bytree': 1, 'gamma': 0, 'lambda': 1...          0.793574  "
      ]
     },
     "execution_count": 82,
     "metadata": {},
     "output_type": "execute_result"
    }
   ],
   "source": [
    "pd.DataFrame({'mean_test_score':grid_gb.cv_results_['mean_test_score'],\n",
    "              'mean_train_score': grid_gb.cv_results_['mean_train_score']\n",
    "             },\n",
    "             index=grid_gb.cv_results_['params']).sort_values(by=['mean_test_score'], ascending=False).head(10)"
   ]
  },
  {
   "cell_type": "markdown",
   "id": "b29a06b8",
   "metadata": {},
   "source": [
    "### Confusion matrix"
   ]
  },
  {
   "cell_type": "code",
   "execution_count": 83,
   "id": "78d75105",
   "metadata": {},
   "outputs": [
    {
     "name": "stderr",
     "output_type": "stream",
     "text": [
      "/home/kostya/anaconda3/lib/python3.7/site-packages/sklearn/utils/deprecation.py:87: FutureWarning: Function plot_confusion_matrix is deprecated; Function `plot_confusion_matrix` is deprecated in 1.0 and will be removed in 1.2. Use one of the class methods: ConfusionMatrixDisplay.from_predictions or ConfusionMatrixDisplay.from_estimator.\n",
      "  warnings.warn(msg, category=FutureWarning)\n"
     ]
    },
    {
     "data": {
      "text/plain": [
       "<sklearn.metrics._plot.confusion_matrix.ConfusionMatrixDisplay at 0x7fbed6541f90>"
      ]
     },
     "execution_count": 83,
     "metadata": {},
     "output_type": "execute_result"
    },
    {
     "data": {
      "image/png": "[encoded data removed]",
      "text/plain": [
       "<Figure size 432x288 with 2 Axes>"
      ]
     },
     "metadata": {},
     "output_type": "display_data"
    }
   ],
   "source": [
    "plot_gb = xgb.XGBClassifier(objective='binary:logistic',\n",
    "                             seed=3,\n",
    "                             **grid_gb.best_params_                             \n",
    ")\n",
    "\n",
    "plot_gb.fit(X_train,\n",
    "             y_train,\n",
    "             early_stopping_rounds=10,\n",
    "             eval_metric='auc',\n",
    "             eval_set=[(X_valid, y_valid)],\n",
    "             verbose=False\n",
    ")\n",
    "\n",
    "plot_confusion_matrix(plot_gb,\n",
    "                      X_valid,\n",
    "                      y_valid\n",
    ")"
   ]
  },
  {
   "cell_type": "markdown",
   "id": "55a7a1ef",
   "metadata": {},
   "source": [
    "### Doing more kaggle submitions with other hyperparams combinations"
   ]
  },
  {
   "cell_type": "code",
   "execution_count": 89,
   "id": "45a0233b",
   "metadata": {},
   "outputs": [],
   "source": [
    "params = {'colsample_bytree': 1, 'gamma': 0, 'lambda': 1, 'learning_rate': 0.1, 'max_depth': 4, 'subsample': 0.8, 'tree_method': 'auto'}\n",
    "\n",
    "alt_gb = xgb.XGBClassifier(objective='binary:logistic',\n",
    "                             seed=3,\n",
    "                             **params                             \n",
    ")\n",
    "\n",
    "alt_gb.fit(train[columns], y)\n",
    "\n",
    "\n",
    "pred = alt_gb.predict(test[columns]).astype(int)\n",
    "submission = pd.DataFrame({'ID': test.ID, 'target':pred})\n",
    "submission.to_csv('Springleaf_submission_gb.csv', index=False)"
   ]
  }
 ],
 "metadata": {
  "kernelspec": {
   "display_name": "Python 3 (ipykernel)",
   "language": "python",
   "name": "python3"
  },
  "language_info": {
   "codemirror_mode": {
    "name": "ipython",
    "version": 3
   },
   "file_extension": ".py",
   "mimetype": "text/x-python",
   "name": "python",
   "nbconvert_exporter": "python",
   "pygments_lexer": "ipython3",
   "version": "3.7.7"
  },
  "varInspector": {
   "cols": {
    "lenName": 16,
    "lenType": 16,
    "lenVar": 40
   },
   "kernels_config": {
    "python": {
     "delete_cmd_postfix": "",
     "delete_cmd_prefix": "del ",
     "library": "var_list.py",
     "varRefreshCmd": "print(var_dic_list())"
    },
    "r": {
     "delete_cmd_postfix": ") ",
     "delete_cmd_prefix": "rm(",
     "library": "var_list.r",
     "varRefreshCmd": "cat(var_dic_list()) "
    }
   },
   "types_to_exclude": [
    "module",
    "function",
    "builtin_function_or_method",
    "instance",
    "_Feature"
   ],
   "window_display": false
  }
 },
 "nbformat": 4,
 "nbformat_minor": 5
}
